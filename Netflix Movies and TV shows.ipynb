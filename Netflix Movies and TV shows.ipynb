{
 "cells": [
  {
   "cell_type": "code",
   "execution_count": 1,
   "id": "3ae600ac",
   "metadata": {},
   "outputs": [],
   "source": [
    "import numpy as np\n",
    "import pandas as pd\n",
    "import matplotlib.pyplot as plt\n",
    "import seaborn as sns\n",
    "# import dateutil.parser import parse\n",
    "# import collections import Counter \n",
    "from collections import Counter"
   ]
  },
  {
   "cell_type": "code",
   "execution_count": 2,
   "id": "541b87c2",
   "metadata": {},
   "outputs": [],
   "source": [
    "nf_data=pd.read_csv(r'D:\\Projects\\Datasets\\netflix.csv')"
   ]
  },
  {
   "cell_type": "code",
   "execution_count": 3,
   "id": "97b36e8e",
   "metadata": {},
   "outputs": [
    {
     "data": {
      "text/html": [
       "<div>\n",
       "<style scoped>\n",
       "    .dataframe tbody tr th:only-of-type {\n",
       "        vertical-align: middle;\n",
       "    }\n",
       "\n",
       "    .dataframe tbody tr th {\n",
       "        vertical-align: top;\n",
       "    }\n",
       "\n",
       "    .dataframe thead th {\n",
       "        text-align: right;\n",
       "    }\n",
       "</style>\n",
       "<table border=\"1\" class=\"dataframe\">\n",
       "  <thead>\n",
       "    <tr style=\"text-align: right;\">\n",
       "      <th></th>\n",
       "      <th>show_id</th>\n",
       "      <th>type</th>\n",
       "      <th>title</th>\n",
       "      <th>director</th>\n",
       "      <th>cast</th>\n",
       "      <th>country</th>\n",
       "      <th>date_added</th>\n",
       "      <th>release_year</th>\n",
       "      <th>rating</th>\n",
       "      <th>duration</th>\n",
       "      <th>listed_in</th>\n",
       "      <th>description</th>\n",
       "    </tr>\n",
       "  </thead>\n",
       "  <tbody>\n",
       "    <tr>\n",
       "      <th>0</th>\n",
       "      <td>s1</td>\n",
       "      <td>Movie</td>\n",
       "      <td>Dick Johnson Is Dead</td>\n",
       "      <td>Kirsten Johnson</td>\n",
       "      <td>NaN</td>\n",
       "      <td>United States</td>\n",
       "      <td>September 25, 2021</td>\n",
       "      <td>2020</td>\n",
       "      <td>PG-13</td>\n",
       "      <td>90 min</td>\n",
       "      <td>Documentaries</td>\n",
       "      <td>As her father nears the end of his life, filmm...</td>\n",
       "    </tr>\n",
       "    <tr>\n",
       "      <th>1</th>\n",
       "      <td>s2</td>\n",
       "      <td>TV Show</td>\n",
       "      <td>Blood &amp; Water</td>\n",
       "      <td>NaN</td>\n",
       "      <td>Ama Qamata, Khosi Ngema, Gail Mabalane, Thaban...</td>\n",
       "      <td>South Africa</td>\n",
       "      <td>September 24, 2021</td>\n",
       "      <td>2021</td>\n",
       "      <td>TV-MA</td>\n",
       "      <td>2 Seasons</td>\n",
       "      <td>International TV Shows, TV Dramas, TV Mysteries</td>\n",
       "      <td>After crossing paths at a party, a Cape Town t...</td>\n",
       "    </tr>\n",
       "    <tr>\n",
       "      <th>2</th>\n",
       "      <td>s3</td>\n",
       "      <td>TV Show</td>\n",
       "      <td>Ganglands</td>\n",
       "      <td>Julien Leclercq</td>\n",
       "      <td>Sami Bouajila, Tracy Gotoas, Samuel Jouy, Nabi...</td>\n",
       "      <td>NaN</td>\n",
       "      <td>September 24, 2021</td>\n",
       "      <td>2021</td>\n",
       "      <td>TV-MA</td>\n",
       "      <td>1 Season</td>\n",
       "      <td>Crime TV Shows, International TV Shows, TV Act...</td>\n",
       "      <td>To protect his family from a powerful drug lor...</td>\n",
       "    </tr>\n",
       "    <tr>\n",
       "      <th>3</th>\n",
       "      <td>s4</td>\n",
       "      <td>TV Show</td>\n",
       "      <td>Jailbirds New Orleans</td>\n",
       "      <td>NaN</td>\n",
       "      <td>NaN</td>\n",
       "      <td>NaN</td>\n",
       "      <td>September 24, 2021</td>\n",
       "      <td>2021</td>\n",
       "      <td>TV-MA</td>\n",
       "      <td>1 Season</td>\n",
       "      <td>Docuseries, Reality TV</td>\n",
       "      <td>Feuds, flirtations and toilet talk go down amo...</td>\n",
       "    </tr>\n",
       "    <tr>\n",
       "      <th>4</th>\n",
       "      <td>s5</td>\n",
       "      <td>TV Show</td>\n",
       "      <td>Kota Factory</td>\n",
       "      <td>NaN</td>\n",
       "      <td>Mayur More, Jitendra Kumar, Ranjan Raj, Alam K...</td>\n",
       "      <td>India</td>\n",
       "      <td>September 24, 2021</td>\n",
       "      <td>2021</td>\n",
       "      <td>TV-MA</td>\n",
       "      <td>2 Seasons</td>\n",
       "      <td>International TV Shows, Romantic TV Shows, TV ...</td>\n",
       "      <td>In a city of coaching centers known to train I...</td>\n",
       "    </tr>\n",
       "    <tr>\n",
       "      <th>...</th>\n",
       "      <td>...</td>\n",
       "      <td>...</td>\n",
       "      <td>...</td>\n",
       "      <td>...</td>\n",
       "      <td>...</td>\n",
       "      <td>...</td>\n",
       "      <td>...</td>\n",
       "      <td>...</td>\n",
       "      <td>...</td>\n",
       "      <td>...</td>\n",
       "      <td>...</td>\n",
       "      <td>...</td>\n",
       "    </tr>\n",
       "    <tr>\n",
       "      <th>8802</th>\n",
       "      <td>s8803</td>\n",
       "      <td>Movie</td>\n",
       "      <td>Zodiac</td>\n",
       "      <td>David Fincher</td>\n",
       "      <td>Mark Ruffalo, Jake Gyllenhaal, Robert Downey J...</td>\n",
       "      <td>United States</td>\n",
       "      <td>November 20, 2019</td>\n",
       "      <td>2007</td>\n",
       "      <td>R</td>\n",
       "      <td>158 min</td>\n",
       "      <td>Cult Movies, Dramas, Thrillers</td>\n",
       "      <td>A political cartoonist, a crime reporter and a...</td>\n",
       "    </tr>\n",
       "    <tr>\n",
       "      <th>8803</th>\n",
       "      <td>s8804</td>\n",
       "      <td>TV Show</td>\n",
       "      <td>Zombie Dumb</td>\n",
       "      <td>NaN</td>\n",
       "      <td>NaN</td>\n",
       "      <td>NaN</td>\n",
       "      <td>July 1, 2019</td>\n",
       "      <td>2018</td>\n",
       "      <td>TV-Y7</td>\n",
       "      <td>2 Seasons</td>\n",
       "      <td>Kids' TV, Korean TV Shows, TV Comedies</td>\n",
       "      <td>While living alone in a spooky town, a young g...</td>\n",
       "    </tr>\n",
       "    <tr>\n",
       "      <th>8804</th>\n",
       "      <td>s8805</td>\n",
       "      <td>Movie</td>\n",
       "      <td>Zombieland</td>\n",
       "      <td>Ruben Fleischer</td>\n",
       "      <td>Jesse Eisenberg, Woody Harrelson, Emma Stone, ...</td>\n",
       "      <td>United States</td>\n",
       "      <td>November 1, 2019</td>\n",
       "      <td>2009</td>\n",
       "      <td>R</td>\n",
       "      <td>88 min</td>\n",
       "      <td>Comedies, Horror Movies</td>\n",
       "      <td>Looking to survive in a world taken over by zo...</td>\n",
       "    </tr>\n",
       "    <tr>\n",
       "      <th>8805</th>\n",
       "      <td>s8806</td>\n",
       "      <td>Movie</td>\n",
       "      <td>Zoom</td>\n",
       "      <td>Peter Hewitt</td>\n",
       "      <td>Tim Allen, Courteney Cox, Chevy Chase, Kate Ma...</td>\n",
       "      <td>United States</td>\n",
       "      <td>January 11, 2020</td>\n",
       "      <td>2006</td>\n",
       "      <td>PG</td>\n",
       "      <td>88 min</td>\n",
       "      <td>Children &amp; Family Movies, Comedies</td>\n",
       "      <td>Dragged from civilian life, a former superhero...</td>\n",
       "    </tr>\n",
       "    <tr>\n",
       "      <th>8806</th>\n",
       "      <td>s8807</td>\n",
       "      <td>Movie</td>\n",
       "      <td>Zubaan</td>\n",
       "      <td>Mozez Singh</td>\n",
       "      <td>Vicky Kaushal, Sarah-Jane Dias, Raaghav Chanan...</td>\n",
       "      <td>India</td>\n",
       "      <td>March 2, 2019</td>\n",
       "      <td>2015</td>\n",
       "      <td>TV-14</td>\n",
       "      <td>111 min</td>\n",
       "      <td>Dramas, International Movies, Music &amp; Musicals</td>\n",
       "      <td>A scrappy but poor boy worms his way into a ty...</td>\n",
       "    </tr>\n",
       "  </tbody>\n",
       "</table>\n",
       "<p>8807 rows × 12 columns</p>\n",
       "</div>"
      ],
      "text/plain": [
       "     show_id     type                  title         director  \\\n",
       "0         s1    Movie   Dick Johnson Is Dead  Kirsten Johnson   \n",
       "1         s2  TV Show          Blood & Water              NaN   \n",
       "2         s3  TV Show              Ganglands  Julien Leclercq   \n",
       "3         s4  TV Show  Jailbirds New Orleans              NaN   \n",
       "4         s5  TV Show           Kota Factory              NaN   \n",
       "...      ...      ...                    ...              ...   \n",
       "8802   s8803    Movie                 Zodiac    David Fincher   \n",
       "8803   s8804  TV Show            Zombie Dumb              NaN   \n",
       "8804   s8805    Movie             Zombieland  Ruben Fleischer   \n",
       "8805   s8806    Movie                   Zoom     Peter Hewitt   \n",
       "8806   s8807    Movie                 Zubaan      Mozez Singh   \n",
       "\n",
       "                                                   cast        country  \\\n",
       "0                                                   NaN  United States   \n",
       "1     Ama Qamata, Khosi Ngema, Gail Mabalane, Thaban...   South Africa   \n",
       "2     Sami Bouajila, Tracy Gotoas, Samuel Jouy, Nabi...            NaN   \n",
       "3                                                   NaN            NaN   \n",
       "4     Mayur More, Jitendra Kumar, Ranjan Raj, Alam K...          India   \n",
       "...                                                 ...            ...   \n",
       "8802  Mark Ruffalo, Jake Gyllenhaal, Robert Downey J...  United States   \n",
       "8803                                                NaN            NaN   \n",
       "8804  Jesse Eisenberg, Woody Harrelson, Emma Stone, ...  United States   \n",
       "8805  Tim Allen, Courteney Cox, Chevy Chase, Kate Ma...  United States   \n",
       "8806  Vicky Kaushal, Sarah-Jane Dias, Raaghav Chanan...          India   \n",
       "\n",
       "              date_added  release_year rating   duration  \\\n",
       "0     September 25, 2021          2020  PG-13     90 min   \n",
       "1     September 24, 2021          2021  TV-MA  2 Seasons   \n",
       "2     September 24, 2021          2021  TV-MA   1 Season   \n",
       "3     September 24, 2021          2021  TV-MA   1 Season   \n",
       "4     September 24, 2021          2021  TV-MA  2 Seasons   \n",
       "...                  ...           ...    ...        ...   \n",
       "8802   November 20, 2019          2007      R    158 min   \n",
       "8803        July 1, 2019          2018  TV-Y7  2 Seasons   \n",
       "8804    November 1, 2019          2009      R     88 min   \n",
       "8805    January 11, 2020          2006     PG     88 min   \n",
       "8806       March 2, 2019          2015  TV-14    111 min   \n",
       "\n",
       "                                              listed_in  \\\n",
       "0                                         Documentaries   \n",
       "1       International TV Shows, TV Dramas, TV Mysteries   \n",
       "2     Crime TV Shows, International TV Shows, TV Act...   \n",
       "3                                Docuseries, Reality TV   \n",
       "4     International TV Shows, Romantic TV Shows, TV ...   \n",
       "...                                                 ...   \n",
       "8802                     Cult Movies, Dramas, Thrillers   \n",
       "8803             Kids' TV, Korean TV Shows, TV Comedies   \n",
       "8804                            Comedies, Horror Movies   \n",
       "8805                 Children & Family Movies, Comedies   \n",
       "8806     Dramas, International Movies, Music & Musicals   \n",
       "\n",
       "                                            description  \n",
       "0     As her father nears the end of his life, filmm...  \n",
       "1     After crossing paths at a party, a Cape Town t...  \n",
       "2     To protect his family from a powerful drug lor...  \n",
       "3     Feuds, flirtations and toilet talk go down amo...  \n",
       "4     In a city of coaching centers known to train I...  \n",
       "...                                                 ...  \n",
       "8802  A political cartoonist, a crime reporter and a...  \n",
       "8803  While living alone in a spooky town, a young g...  \n",
       "8804  Looking to survive in a world taken over by zo...  \n",
       "8805  Dragged from civilian life, a former superhero...  \n",
       "8806  A scrappy but poor boy worms his way into a ty...  \n",
       "\n",
       "[8807 rows x 12 columns]"
      ]
     },
     "execution_count": 3,
     "metadata": {},
     "output_type": "execute_result"
    }
   ],
   "source": [
    "nf_data"
   ]
  },
  {
   "cell_type": "code",
   "execution_count": 4,
   "id": "67c649c6",
   "metadata": {},
   "outputs": [
    {
     "data": {
      "text/plain": [
       "(8807, 12)"
      ]
     },
     "execution_count": 4,
     "metadata": {},
     "output_type": "execute_result"
    }
   ],
   "source": [
    "# To check Shape of data set\n",
    "nf_data.shape  "
   ]
  },
  {
   "cell_type": "code",
   "execution_count": 5,
   "id": "ef2483a7",
   "metadata": {},
   "outputs": [
    {
     "data": {
      "text/plain": [
       "Index(['show_id', 'type', 'title', 'director', 'cast', 'country', 'date_added',\n",
       "       'release_year', 'rating', 'duration', 'listed_in', 'description'],\n",
       "      dtype='object')"
      ]
     },
     "execution_count": 5,
     "metadata": {},
     "output_type": "execute_result"
    }
   ],
   "source": [
    "# To check the columns\n",
    "nf_data.columns"
   ]
  },
  {
   "cell_type": "code",
   "execution_count": 6,
   "id": "dd519f0b",
   "metadata": {},
   "outputs": [
    {
     "data": {
      "text/plain": [
       "Index(['show_id', 'type', 'title', 'director', 'cast', 'country', 'date_added',\n",
       "       'release_year', 'rating', 'duration', 'geners', 'description'],\n",
       "      dtype='object')"
      ]
     },
     "execution_count": 6,
     "metadata": {},
     "output_type": "execute_result"
    }
   ],
   "source": [
    "#Changing column name 'Listed_in' to geners to look attractive\n",
    "nf_data.rename(columns = {'listed_in':'geners'}, inplace = True)\n",
    "nf_data.columns"
   ]
  },
  {
   "cell_type": "code",
   "execution_count": 7,
   "id": "4cf05481",
   "metadata": {},
   "outputs": [
    {
     "data": {
      "text/plain": [
       "(8807, 12)"
      ]
     },
     "execution_count": 7,
     "metadata": {},
     "output_type": "execute_result"
    }
   ],
   "source": [
    "#  Validating Duplicate Records\n",
    "nf_data=nf_data.drop_duplicates()\n",
    "nf_data.shape\n",
    "# No Duplicate Values are Prtesent"
   ]
  },
  {
   "cell_type": "code",
   "execution_count": 8,
   "id": "6fc393d6",
   "metadata": {},
   "outputs": [
    {
     "name": "stdout",
     "output_type": "stream",
     "text": [
      "Total records = 8807\n"
     ]
    },
    {
     "data": {
      "text/html": [
       "<div>\n",
       "<style scoped>\n",
       "    .dataframe tbody tr th:only-of-type {\n",
       "        vertical-align: middle;\n",
       "    }\n",
       "\n",
       "    .dataframe tbody tr th {\n",
       "        vertical-align: top;\n",
       "    }\n",
       "\n",
       "    .dataframe thead th {\n",
       "        text-align: right;\n",
       "    }\n",
       "</style>\n",
       "<table border=\"1\" class=\"dataframe\">\n",
       "  <thead>\n",
       "    <tr style=\"text-align: right;\">\n",
       "      <th></th>\n",
       "      <th>Remaing</th>\n",
       "      <th>Total Missing</th>\n",
       "      <th>In Percentage</th>\n",
       "    </tr>\n",
       "  </thead>\n",
       "  <tbody>\n",
       "    <tr>\n",
       "      <th>director</th>\n",
       "      <td>6173</td>\n",
       "      <td>2634</td>\n",
       "      <td>29.91</td>\n",
       "    </tr>\n",
       "    <tr>\n",
       "      <th>country</th>\n",
       "      <td>7976</td>\n",
       "      <td>831</td>\n",
       "      <td>9.44</td>\n",
       "    </tr>\n",
       "    <tr>\n",
       "      <th>cast</th>\n",
       "      <td>7982</td>\n",
       "      <td>825</td>\n",
       "      <td>9.37</td>\n",
       "    </tr>\n",
       "    <tr>\n",
       "      <th>date_added</th>\n",
       "      <td>8797</td>\n",
       "      <td>10</td>\n",
       "      <td>0.11</td>\n",
       "    </tr>\n",
       "    <tr>\n",
       "      <th>rating</th>\n",
       "      <td>8803</td>\n",
       "      <td>4</td>\n",
       "      <td>0.05</td>\n",
       "    </tr>\n",
       "    <tr>\n",
       "      <th>duration</th>\n",
       "      <td>8804</td>\n",
       "      <td>3</td>\n",
       "      <td>0.03</td>\n",
       "    </tr>\n",
       "    <tr>\n",
       "      <th>show_id</th>\n",
       "      <td>8807</td>\n",
       "      <td>0</td>\n",
       "      <td>0.00</td>\n",
       "    </tr>\n",
       "    <tr>\n",
       "      <th>type</th>\n",
       "      <td>8807</td>\n",
       "      <td>0</td>\n",
       "      <td>0.00</td>\n",
       "    </tr>\n",
       "    <tr>\n",
       "      <th>title</th>\n",
       "      <td>8807</td>\n",
       "      <td>0</td>\n",
       "      <td>0.00</td>\n",
       "    </tr>\n",
       "    <tr>\n",
       "      <th>release_year</th>\n",
       "      <td>8807</td>\n",
       "      <td>0</td>\n",
       "      <td>0.00</td>\n",
       "    </tr>\n",
       "  </tbody>\n",
       "</table>\n",
       "</div>"
      ],
      "text/plain": [
       "              Remaing  Total Missing  In Percentage\n",
       "director         6173           2634          29.91\n",
       "country          7976            831           9.44\n",
       "cast             7982            825           9.37\n",
       "date_added       8797             10           0.11\n",
       "rating           8803              4           0.05\n",
       "duration         8804              3           0.03\n",
       "show_id          8807              0           0.00\n",
       "type             8807              0           0.00\n",
       "title            8807              0           0.00\n",
       "release_year     8807              0           0.00"
      ]
     },
     "execution_count": 8,
     "metadata": {},
     "output_type": "execute_result"
    }
   ],
   "source": [
    "# Missing Data Analysis\n",
    "# Total Missing values\n",
    "total_null=nf_data.isnull().sum().sort_values(ascending=False)\n",
    "# Converting missing value to Percent\n",
    "percentage=(nf_data.isnull().sum()/len(nf_data)*100).sort_values(ascending=False)\n",
    "# Total values count after missing\n",
    "Total=nf_data.count().sort_values(ascending=True)\n",
    "print(\"Total records =\", nf_data.shape[0])\n",
    "#  concatinating All in dataframe\n",
    "missing_data=pd.concat([Total,total_null,percentage.round(2)],axis=1,keys=['Remaing','Total Missing','In Percentage'])\n",
    "missing_data.head(10)"
   ]
  },
  {
   "cell_type": "code",
   "execution_count": 9,
   "id": "eeebd477",
   "metadata": {},
   "outputs": [],
   "source": [
    "# Handling Missing Value\n",
    "# Handling Missing - rating\n",
    "# Applying imputation technique\n",
    "nf_data['rating'].replace(to_replace = np.nan, value = 'NR',inplace=True)"
   ]
  },
  {
   "cell_type": "code",
   "execution_count": 10,
   "id": "fd4ec12b",
   "metadata": {},
   "outputs": [],
   "source": [
    "# Handling Missing - Country\n",
    "# Applying Fillna technique\n",
    "nf_data['country'] = nf_data['country'].fillna(nf_data['country'].mode()[0])"
   ]
  },
  {
   "cell_type": "code",
   "execution_count": 11,
   "id": "4799dfa1",
   "metadata": {},
   "outputs": [],
   "source": [
    "# Handling Missing - duration\n",
    "# Applying imputation technique\n",
    "nf_data['duration'].replace(to_replace = np.nan, value='NR',inplace=True)"
   ]
  },
  {
   "cell_type": "code",
   "execution_count": 12,
   "id": "eb7f4fae",
   "metadata": {},
   "outputs": [
    {
     "data": {
      "text/plain": [
       "show_id         8807\n",
       "type               2\n",
       "title           8807\n",
       "director        4528\n",
       "cast            7692\n",
       "country          748\n",
       "date_added      1767\n",
       "release_year      74\n",
       "rating            17\n",
       "duration         221\n",
       "geners           514\n",
       "description     8775\n",
       "dtype: int64"
      ]
     },
     "execution_count": 12,
     "metadata": {},
     "output_type": "execute_result"
    }
   ],
   "source": [
    "# Unique Values Count for each Attribute\n",
    "nf_data.nunique()"
   ]
  },
  {
   "cell_type": "code",
   "execution_count": 13,
   "id": "84159733",
   "metadata": {},
   "outputs": [],
   "source": [
    "# Dropping show Id as it is just for reference and of no use\n",
    "nf_data=nf_data.drop('show_id',axis=1)"
   ]
  },
  {
   "cell_type": "code",
   "execution_count": 14,
   "id": "7887a3c8",
   "metadata": {},
   "outputs": [
    {
     "data": {
      "text/plain": [
       "type               2\n",
       "title           8807\n",
       "director        4528\n",
       "cast            7692\n",
       "country          748\n",
       "date_added      1767\n",
       "release_year      74\n",
       "rating            17\n",
       "duration         221\n",
       "geners           514\n",
       "description     8775\n",
       "dtype: int64"
      ]
     },
     "execution_count": 14,
     "metadata": {},
     "output_type": "execute_result"
    }
   ],
   "source": [
    "nf_data.nunique()\n",
    "# description=(8807-8875=32) so 32 movies have the same description that may be because the same movies being released in diff language"
   ]
  },
  {
   "cell_type": "code",
   "execution_count": 15,
   "id": "1f09d323",
   "metadata": {},
   "outputs": [
    {
     "data": {
      "text/plain": [
       "array(['Movie', 'TV Show'], dtype=object)"
      ]
     },
     "execution_count": 15,
     "metadata": {},
     "output_type": "execute_result"
    }
   ],
   "source": [
    "# Unique values(names) are checked \n",
    "nf_data['type'].unique()"
   ]
  },
  {
   "cell_type": "code",
   "execution_count": 16,
   "id": "af3a4ca1",
   "metadata": {},
   "outputs": [
    {
     "data": {
      "text/plain": [
       "array(['PG-13', 'TV-MA', 'PG', 'TV-14', 'TV-PG', 'TV-Y', 'TV-Y7', 'R',\n",
       "       'TV-G', 'G', 'NC-17', '74 min', '84 min', '66 min', 'NR',\n",
       "       'TV-Y7-FV', 'UR'], dtype=object)"
      ]
     },
     "execution_count": 16,
     "metadata": {},
     "output_type": "execute_result"
    }
   ],
   "source": [
    "nf_data['rating'].unique()\n",
    "# In this 3 records are actually part of duration 74,84,66mins"
   ]
  },
  {
   "cell_type": "code",
   "execution_count": 17,
   "id": "c163f46b",
   "metadata": {},
   "outputs": [
    {
     "data": {
      "text/html": [
       "<div>\n",
       "<style scoped>\n",
       "    .dataframe tbody tr th:only-of-type {\n",
       "        vertical-align: middle;\n",
       "    }\n",
       "\n",
       "    .dataframe tbody tr th {\n",
       "        vertical-align: top;\n",
       "    }\n",
       "\n",
       "    .dataframe thead th {\n",
       "        text-align: right;\n",
       "    }\n",
       "</style>\n",
       "<table border=\"1\" class=\"dataframe\">\n",
       "  <thead>\n",
       "    <tr style=\"text-align: right;\">\n",
       "      <th></th>\n",
       "      <th>director</th>\n",
       "      <th>cast</th>\n",
       "      <th>date_added</th>\n",
       "    </tr>\n",
       "  </thead>\n",
       "  <tbody>\n",
       "  </tbody>\n",
       "</table>\n",
       "</div>"
      ],
      "text/plain": [
       "Empty DataFrame\n",
       "Columns: [director, cast, date_added]\n",
       "Index: []"
      ]
     },
     "execution_count": 17,
     "metadata": {},
     "output_type": "execute_result"
    }
   ],
   "source": [
    "# Using imputation technique to replace the duration value with 74,84,66mins whic were found in ratings\n",
    "null_columns=nf_data.columns[nf_data.isnull().any()]\n",
    "nf_data[nf_data['duration'].isnull()][null_columns]"
   ]
  },
  {
   "cell_type": "code",
   "execution_count": 18,
   "id": "fff59274",
   "metadata": {},
   "outputs": [
    {
     "data": {
      "text/html": [
       "<div>\n",
       "<style scoped>\n",
       "    .dataframe tbody tr th:only-of-type {\n",
       "        vertical-align: middle;\n",
       "    }\n",
       "\n",
       "    .dataframe tbody tr th {\n",
       "        vertical-align: top;\n",
       "    }\n",
       "\n",
       "    .dataframe thead th {\n",
       "        text-align: right;\n",
       "    }\n",
       "</style>\n",
       "<table border=\"1\" class=\"dataframe\">\n",
       "  <thead>\n",
       "    <tr style=\"text-align: right;\">\n",
       "      <th></th>\n",
       "      <th>type</th>\n",
       "      <th>title</th>\n",
       "      <th>director</th>\n",
       "      <th>cast</th>\n",
       "      <th>country</th>\n",
       "      <th>date_added</th>\n",
       "      <th>release_year</th>\n",
       "      <th>rating</th>\n",
       "      <th>duration</th>\n",
       "      <th>geners</th>\n",
       "      <th>description</th>\n",
       "    </tr>\n",
       "  </thead>\n",
       "  <tbody>\n",
       "    <tr>\n",
       "      <th>5813</th>\n",
       "      <td>Movie</td>\n",
       "      <td>Louis C.K.: Live at the Comedy Store</td>\n",
       "      <td>Louis C.K.</td>\n",
       "      <td>Louis C.K.</td>\n",
       "      <td>United States</td>\n",
       "      <td>August 15, 2016</td>\n",
       "      <td>2015</td>\n",
       "      <td>66 min</td>\n",
       "      <td>NR</td>\n",
       "      <td>Movies</td>\n",
       "      <td>The comic puts his trademark hilarious/thought...</td>\n",
       "    </tr>\n",
       "  </tbody>\n",
       "</table>\n",
       "</div>"
      ],
      "text/plain": [
       "       type                                 title    director        cast  \\\n",
       "5813  Movie  Louis C.K.: Live at the Comedy Store  Louis C.K.  Louis C.K.   \n",
       "\n",
       "            country       date_added  release_year  rating duration  geners  \\\n",
       "5813  United States  August 15, 2016          2015  66 min       NR  Movies   \n",
       "\n",
       "                                            description  \n",
       "5813  The comic puts his trademark hilarious/thought...  "
      ]
     },
     "execution_count": 18,
     "metadata": {},
     "output_type": "execute_result"
    }
   ],
   "source": [
    "nf_data.loc[nf_data['rating'] == '66 min']"
   ]
  },
  {
   "cell_type": "code",
   "execution_count": 19,
   "id": "d7f893db",
   "metadata": {},
   "outputs": [
    {
     "data": {
      "text/html": [
       "<div>\n",
       "<style scoped>\n",
       "    .dataframe tbody tr th:only-of-type {\n",
       "        vertical-align: middle;\n",
       "    }\n",
       "\n",
       "    .dataframe tbody tr th {\n",
       "        vertical-align: top;\n",
       "    }\n",
       "\n",
       "    .dataframe thead th {\n",
       "        text-align: right;\n",
       "    }\n",
       "</style>\n",
       "<table border=\"1\" class=\"dataframe\">\n",
       "  <thead>\n",
       "    <tr style=\"text-align: right;\">\n",
       "      <th></th>\n",
       "      <th>type</th>\n",
       "      <th>title</th>\n",
       "      <th>director</th>\n",
       "      <th>cast</th>\n",
       "      <th>country</th>\n",
       "      <th>date_added</th>\n",
       "      <th>release_year</th>\n",
       "      <th>rating</th>\n",
       "      <th>duration</th>\n",
       "      <th>geners</th>\n",
       "      <th>description</th>\n",
       "    </tr>\n",
       "  </thead>\n",
       "  <tbody>\n",
       "    <tr>\n",
       "      <th>5794</th>\n",
       "      <td>Movie</td>\n",
       "      <td>Louis C.K.: Hilarious</td>\n",
       "      <td>Louis C.K.</td>\n",
       "      <td>Louis C.K.</td>\n",
       "      <td>United States</td>\n",
       "      <td>September 16, 2016</td>\n",
       "      <td>2010</td>\n",
       "      <td>84 min</td>\n",
       "      <td>NR</td>\n",
       "      <td>Movies</td>\n",
       "      <td>Emmy-winning comedy writer Louis C.K. brings h...</td>\n",
       "    </tr>\n",
       "  </tbody>\n",
       "</table>\n",
       "</div>"
      ],
      "text/plain": [
       "       type                  title    director        cast        country  \\\n",
       "5794  Movie  Louis C.K.: Hilarious  Louis C.K.  Louis C.K.  United States   \n",
       "\n",
       "              date_added  release_year  rating duration  geners  \\\n",
       "5794  September 16, 2016          2010  84 min       NR  Movies   \n",
       "\n",
       "                                            description  \n",
       "5794  Emmy-winning comedy writer Louis C.K. brings h...  "
      ]
     },
     "execution_count": 19,
     "metadata": {},
     "output_type": "execute_result"
    }
   ],
   "source": [
    "nf_data.loc[nf_data['rating'] == '84 min']"
   ]
  },
  {
   "cell_type": "code",
   "execution_count": 20,
   "id": "99a29d6c",
   "metadata": {},
   "outputs": [
    {
     "data": {
      "text/html": [
       "<div>\n",
       "<style scoped>\n",
       "    .dataframe tbody tr th:only-of-type {\n",
       "        vertical-align: middle;\n",
       "    }\n",
       "\n",
       "    .dataframe tbody tr th {\n",
       "        vertical-align: top;\n",
       "    }\n",
       "\n",
       "    .dataframe thead th {\n",
       "        text-align: right;\n",
       "    }\n",
       "</style>\n",
       "<table border=\"1\" class=\"dataframe\">\n",
       "  <thead>\n",
       "    <tr style=\"text-align: right;\">\n",
       "      <th></th>\n",
       "      <th>type</th>\n",
       "      <th>title</th>\n",
       "      <th>director</th>\n",
       "      <th>cast</th>\n",
       "      <th>country</th>\n",
       "      <th>date_added</th>\n",
       "      <th>release_year</th>\n",
       "      <th>rating</th>\n",
       "      <th>duration</th>\n",
       "      <th>geners</th>\n",
       "      <th>description</th>\n",
       "    </tr>\n",
       "  </thead>\n",
       "  <tbody>\n",
       "    <tr>\n",
       "      <th>5541</th>\n",
       "      <td>Movie</td>\n",
       "      <td>Louis C.K. 2017</td>\n",
       "      <td>Louis C.K.</td>\n",
       "      <td>Louis C.K.</td>\n",
       "      <td>United States</td>\n",
       "      <td>April 4, 2017</td>\n",
       "      <td>2017</td>\n",
       "      <td>74 min</td>\n",
       "      <td>NR</td>\n",
       "      <td>Movies</td>\n",
       "      <td>Louis C.K. muses on religion, eternal love, gi...</td>\n",
       "    </tr>\n",
       "  </tbody>\n",
       "</table>\n",
       "</div>"
      ],
      "text/plain": [
       "       type            title    director        cast        country  \\\n",
       "5541  Movie  Louis C.K. 2017  Louis C.K.  Louis C.K.  United States   \n",
       "\n",
       "         date_added  release_year  rating duration  geners  \\\n",
       "5541  April 4, 2017          2017  74 min       NR  Movies   \n",
       "\n",
       "                                            description  \n",
       "5541  Louis C.K. muses on religion, eternal love, gi...  "
      ]
     },
     "execution_count": 20,
     "metadata": {},
     "output_type": "execute_result"
    }
   ],
   "source": [
    "nf_data.loc[nf_data['rating'] == '74 min']"
   ]
  },
  {
   "cell_type": "code",
   "execution_count": 21,
   "id": "585a1505",
   "metadata": {},
   "outputs": [],
   "source": [
    "# Updated the Correct Duration\n",
    "nf_data.loc[5541,'duration'] = '74 min'\n",
    "nf_data.loc[5794,'duration'] = '84 min'\n",
    "nf_data.loc[5813,'duration'] = '66 min'\n"
   ]
  },
  {
   "cell_type": "code",
   "execution_count": 22,
   "id": "cf74ebd2",
   "metadata": {},
   "outputs": [
    {
     "data": {
      "text/html": [
       "<div>\n",
       "<style scoped>\n",
       "    .dataframe tbody tr th:only-of-type {\n",
       "        vertical-align: middle;\n",
       "    }\n",
       "\n",
       "    .dataframe tbody tr th {\n",
       "        vertical-align: top;\n",
       "    }\n",
       "\n",
       "    .dataframe thead th {\n",
       "        text-align: right;\n",
       "    }\n",
       "</style>\n",
       "<table border=\"1\" class=\"dataframe\">\n",
       "  <thead>\n",
       "    <tr style=\"text-align: right;\">\n",
       "      <th></th>\n",
       "      <th>type</th>\n",
       "      <th>title</th>\n",
       "      <th>director</th>\n",
       "      <th>cast</th>\n",
       "      <th>country</th>\n",
       "      <th>date_added</th>\n",
       "      <th>release_year</th>\n",
       "      <th>rating</th>\n",
       "      <th>duration</th>\n",
       "      <th>geners</th>\n",
       "      <th>description</th>\n",
       "    </tr>\n",
       "  </thead>\n",
       "  <tbody>\n",
       "    <tr>\n",
       "      <th>423</th>\n",
       "      <td>Movie</td>\n",
       "      <td>Chhota Bheem: Master of Shaolin</td>\n",
       "      <td>Rajiv Chilaka</td>\n",
       "      <td>Pooja Punabi, Mausam, Julie Tejwani, Rupa Bhim...</td>\n",
       "      <td>United States</td>\n",
       "      <td>July 22, 2021</td>\n",
       "      <td>2011</td>\n",
       "      <td>TV-Y7</td>\n",
       "      <td>74 min</td>\n",
       "      <td>Children &amp; Family Movies</td>\n",
       "      <td>Summoned by a monk to help reclaim a temple fr...</td>\n",
       "    </tr>\n",
       "    <tr>\n",
       "      <th>757</th>\n",
       "      <td>Movie</td>\n",
       "      <td>Breaking Boundaries: The Science Of Our Planet</td>\n",
       "      <td>Jonathan Clay</td>\n",
       "      <td>David Attenborough, Johan Rockström</td>\n",
       "      <td>United States</td>\n",
       "      <td>June 4, 2021</td>\n",
       "      <td>2021</td>\n",
       "      <td>TV-PG</td>\n",
       "      <td>74 min</td>\n",
       "      <td>Documentaries</td>\n",
       "      <td>David Attenborough and scientist Johan Rockstr...</td>\n",
       "    </tr>\n",
       "    <tr>\n",
       "      <th>1198</th>\n",
       "      <td>Movie</td>\n",
       "      <td>RebellComedy: Straight Outta the Zoo</td>\n",
       "      <td>Ladislaus Kiraly</td>\n",
       "      <td>Khalid Bounouar, Alain Frei, Babak Ghassim, Be...</td>\n",
       "      <td>Germany</td>\n",
       "      <td>March 16, 2021</td>\n",
       "      <td>2021</td>\n",
       "      <td>TV-MA</td>\n",
       "      <td>74 min</td>\n",
       "      <td>Stand-Up Comedy</td>\n",
       "      <td>The comics of RebellComedy take the stage and ...</td>\n",
       "    </tr>\n",
       "    <tr>\n",
       "      <th>1719</th>\n",
       "      <td>Movie</td>\n",
       "      <td>We Are All For The Fatherland</td>\n",
       "      <td>NaN</td>\n",
       "      <td>NaN</td>\n",
       "      <td>Lebanon, Canada, France</td>\n",
       "      <td>November 11, 2020</td>\n",
       "      <td>1979</td>\n",
       "      <td>TV-14</td>\n",
       "      <td>74 min</td>\n",
       "      <td>Documentaries, International Movies</td>\n",
       "      <td>After the 1978 Israeli invasion of Lebanon, ch...</td>\n",
       "    </tr>\n",
       "    <tr>\n",
       "      <th>3265</th>\n",
       "      <td>Movie</td>\n",
       "      <td>El sendero de la anaconda</td>\n",
       "      <td>Alessandro Angulo</td>\n",
       "      <td>Wade Davis, Martin von Hildebrand</td>\n",
       "      <td>Colombia</td>\n",
       "      <td>November 15, 2019</td>\n",
       "      <td>2019</td>\n",
       "      <td>TV-14</td>\n",
       "      <td>74 min</td>\n",
       "      <td>Documentaries, International Movies</td>\n",
       "      <td>In the most remote areas of the Amazon jungle,...</td>\n",
       "    </tr>\n",
       "    <tr>\n",
       "      <th>3278</th>\n",
       "      <td>Movie</td>\n",
       "      <td>SunGanges</td>\n",
       "      <td>Valli Bindana</td>\n",
       "      <td>Naseeruddin Shah</td>\n",
       "      <td>India, United States</td>\n",
       "      <td>November 15, 2019</td>\n",
       "      <td>2018</td>\n",
       "      <td>TV-14</td>\n",
       "      <td>74 min</td>\n",
       "      <td>Documentaries, International Movies</td>\n",
       "      <td>A trio of filmmakers treks across India to exp...</td>\n",
       "    </tr>\n",
       "    <tr>\n",
       "      <th>3761</th>\n",
       "      <td>Movie</td>\n",
       "      <td>Belmonte</td>\n",
       "      <td>Federico Veiroj</td>\n",
       "      <td>Gonzalo Delgado, Olivia Molinaro Eijo, Jeannet...</td>\n",
       "      <td>Uruguay, Spain, Mexico</td>\n",
       "      <td>June 7, 2019</td>\n",
       "      <td>2018</td>\n",
       "      <td>TV-MA</td>\n",
       "      <td>74 min</td>\n",
       "      <td>Dramas, Independent Movies, International Movies</td>\n",
       "      <td>An artist muddles through a midlife crisis whi...</td>\n",
       "    </tr>\n",
       "    <tr>\n",
       "      <th>4123</th>\n",
       "      <td>Movie</td>\n",
       "      <td>ReMastered: The Two Killings of Sam Cooke</td>\n",
       "      <td>Kelly Duane de la Vega</td>\n",
       "      <td>Sam Cooke</td>\n",
       "      <td>United States</td>\n",
       "      <td>February 8, 2019</td>\n",
       "      <td>2019</td>\n",
       "      <td>TV-MA</td>\n",
       "      <td>74 min</td>\n",
       "      <td>Documentaries, Music &amp; Musicals</td>\n",
       "      <td>While Sam Cooke rose to stardom as a soul sing...</td>\n",
       "    </tr>\n",
       "    <tr>\n",
       "      <th>4152</th>\n",
       "      <td>Movie</td>\n",
       "      <td>Bhasmasur</td>\n",
       "      <td>Nishil Sheth</td>\n",
       "      <td>Imran Rasheed, Mittal Chouhan, Trimala Adhikar...</td>\n",
       "      <td>India</td>\n",
       "      <td>January 29, 2019</td>\n",
       "      <td>2017</td>\n",
       "      <td>TV-14</td>\n",
       "      <td>74 min</td>\n",
       "      <td>Dramas, Independent Movies, International Movies</td>\n",
       "      <td>In this heart-wrenching coming-of-age story, a...</td>\n",
       "    </tr>\n",
       "    <tr>\n",
       "      <th>4482</th>\n",
       "      <td>Movie</td>\n",
       "      <td>ADAM SANDLER 100% FRESH</td>\n",
       "      <td>Steve Brill</td>\n",
       "      <td>Adam Sandler</td>\n",
       "      <td>United States</td>\n",
       "      <td>October 23, 2018</td>\n",
       "      <td>2018</td>\n",
       "      <td>TV-MA</td>\n",
       "      <td>74 min</td>\n",
       "      <td>Stand-Up Comedy</td>\n",
       "      <td>From \"Heroes\" to \"Ice Cream Ladies\" – Adam San...</td>\n",
       "    </tr>\n",
       "    <tr>\n",
       "      <th>4715</th>\n",
       "      <td>Movie</td>\n",
       "      <td>Flavors of Youth: International Version</td>\n",
       "      <td>Xiaoxing Yi, Yoshitaka Takeuchi, Haoling Li</td>\n",
       "      <td>Taito Ban, Mariya Ise, Minako Kotobuki, Haruka...</td>\n",
       "      <td>China, Japan</td>\n",
       "      <td>August 4, 2018</td>\n",
       "      <td>2018</td>\n",
       "      <td>TV-PG</td>\n",
       "      <td>74 min</td>\n",
       "      <td>Anime Features, International Movies, Romantic...</td>\n",
       "      <td>Memories in a bowl of steaming noodles, a fadi...</td>\n",
       "    </tr>\n",
       "    <tr>\n",
       "      <th>4820</th>\n",
       "      <td>Movie</td>\n",
       "      <td>Derren Brown: Miracle</td>\n",
       "      <td>NaN</td>\n",
       "      <td>Derren Brown</td>\n",
       "      <td>United Kingdom</td>\n",
       "      <td>June 22, 2018</td>\n",
       "      <td>2018</td>\n",
       "      <td>TV-MA</td>\n",
       "      <td>74 min</td>\n",
       "      <td>International Movies</td>\n",
       "      <td>Illusionist Derren Brown reinvents the concept...</td>\n",
       "    </tr>\n",
       "    <tr>\n",
       "      <th>4827</th>\n",
       "      <td>Movie</td>\n",
       "      <td>Pacificum: Return to the Ocean</td>\n",
       "      <td>Mariana Tschudi, Héctor Gálvez</td>\n",
       "      <td>NaN</td>\n",
       "      <td>Peru</td>\n",
       "      <td>June 15, 2018</td>\n",
       "      <td>2017</td>\n",
       "      <td>TV-G</td>\n",
       "      <td>74 min</td>\n",
       "      <td>Documentaries, International Movies</td>\n",
       "      <td>Four scientists offer a sweeping yet intimate ...</td>\n",
       "    </tr>\n",
       "    <tr>\n",
       "      <th>4851</th>\n",
       "      <td>Movie</td>\n",
       "      <td>Steve Martin and Martin Short: An Evening You ...</td>\n",
       "      <td>Marcus Raboy</td>\n",
       "      <td>Steve Martin, Martin Short</td>\n",
       "      <td>United States</td>\n",
       "      <td>May 25, 2018</td>\n",
       "      <td>2018</td>\n",
       "      <td>TV-14</td>\n",
       "      <td>74 min</td>\n",
       "      <td>Stand-Up Comedy</td>\n",
       "      <td>Longtime pals and showbiz icons Steve Martin a...</td>\n",
       "    </tr>\n",
       "    <tr>\n",
       "      <th>4972</th>\n",
       "      <td>Movie</td>\n",
       "      <td>Paradox</td>\n",
       "      <td>Daryl Hannah</td>\n",
       "      <td>Neil Young, Lukas Nelson, Micah Nelson, Corey ...</td>\n",
       "      <td>United States</td>\n",
       "      <td>March 23, 2018</td>\n",
       "      <td>2018</td>\n",
       "      <td>TV-MA</td>\n",
       "      <td>74 min</td>\n",
       "      <td>Dramas, Independent Movies, Music &amp; Musicals</td>\n",
       "      <td>Neil Young and his band of outlaws sow seeds o...</td>\n",
       "    </tr>\n",
       "    <tr>\n",
       "      <th>5379</th>\n",
       "      <td>Movie</td>\n",
       "      <td>Tom Segura: Completely Normal</td>\n",
       "      <td>Jay Chapman</td>\n",
       "      <td>Tom Segura</td>\n",
       "      <td>United States</td>\n",
       "      <td>July 13, 2017</td>\n",
       "      <td>2014</td>\n",
       "      <td>TV-MA</td>\n",
       "      <td>74 min</td>\n",
       "      <td>Stand-Up Comedy</td>\n",
       "      <td>Levelheaded stand-up Tom Segura shares offhand...</td>\n",
       "    </tr>\n",
       "    <tr>\n",
       "      <th>5541</th>\n",
       "      <td>Movie</td>\n",
       "      <td>Louis C.K. 2017</td>\n",
       "      <td>Louis C.K.</td>\n",
       "      <td>Louis C.K.</td>\n",
       "      <td>United States</td>\n",
       "      <td>April 4, 2017</td>\n",
       "      <td>2017</td>\n",
       "      <td>74 min</td>\n",
       "      <td>74 min</td>\n",
       "      <td>Movies</td>\n",
       "      <td>Louis C.K. muses on religion, eternal love, gi...</td>\n",
       "    </tr>\n",
       "    <tr>\n",
       "      <th>5639</th>\n",
       "      <td>Movie</td>\n",
       "      <td>Jim Gaffigan: Cinco</td>\n",
       "      <td>Jeannie Gaffigan</td>\n",
       "      <td>Jim Gaffigan</td>\n",
       "      <td>United States</td>\n",
       "      <td>January 10, 2017</td>\n",
       "      <td>2017</td>\n",
       "      <td>TV-14</td>\n",
       "      <td>74 min</td>\n",
       "      <td>Stand-Up Comedy</td>\n",
       "      <td>America's king of clean comedy delivers wicked...</td>\n",
       "    </tr>\n",
       "    <tr>\n",
       "      <th>5865</th>\n",
       "      <td>Movie</td>\n",
       "      <td>Marvel Super Hero Adventures: Frost Fight!</td>\n",
       "      <td>Mitch Schauer</td>\n",
       "      <td>Mick Wingert, Matthew Mercer, Travis Willingha...</td>\n",
       "      <td>United States</td>\n",
       "      <td>February 24, 2016</td>\n",
       "      <td>2015</td>\n",
       "      <td>PG</td>\n",
       "      <td>74 min</td>\n",
       "      <td>Children &amp; Family Movies, Sci-Fi &amp; Fantasy</td>\n",
       "      <td>In this Christmas-themed special, Captain Amer...</td>\n",
       "    </tr>\n",
       "    <tr>\n",
       "      <th>5875</th>\n",
       "      <td>Movie</td>\n",
       "      <td>Tom Segura: Mostly Stories</td>\n",
       "      <td>Jay Karas</td>\n",
       "      <td>Tom Segura</td>\n",
       "      <td>United States</td>\n",
       "      <td>January 8, 2016</td>\n",
       "      <td>2016</td>\n",
       "      <td>TV-MA</td>\n",
       "      <td>74 min</td>\n",
       "      <td>Stand-Up Comedy</td>\n",
       "      <td>The bearded, bawdy and comically bitter Tom Se...</td>\n",
       "    </tr>\n",
       "    <tr>\n",
       "      <th>5880</th>\n",
       "      <td>Movie</td>\n",
       "      <td>Trailer Park Boys: Drunk, High and Unemployed:...</td>\n",
       "      <td>Gary Howsam, Mike Smith, John Paul Tremblay, R...</td>\n",
       "      <td>Mike Smith, John Paul Tremblay, Robb Wells, Jo...</td>\n",
       "      <td>Canada</td>\n",
       "      <td>December 9, 2015</td>\n",
       "      <td>2015</td>\n",
       "      <td>TV-MA</td>\n",
       "      <td>74 min</td>\n",
       "      <td>Comedies, International Movies</td>\n",
       "      <td>Ricky, Julian and Bubbles bring their trailer ...</td>\n",
       "    </tr>\n",
       "    <tr>\n",
       "      <th>6234</th>\n",
       "      <td>Movie</td>\n",
       "      <td>Barbie &amp; Her Sisters in a Pony Tale</td>\n",
       "      <td>Kyran Kelly</td>\n",
       "      <td>Kelly Sheridan, Kazumi Evans, Claire Corlett, ...</td>\n",
       "      <td>United States</td>\n",
       "      <td>October 1, 2017</td>\n",
       "      <td>2013</td>\n",
       "      <td>TV-Y</td>\n",
       "      <td>74 min</td>\n",
       "      <td>Children &amp; Family Movies</td>\n",
       "      <td>Barbie and her sisters set off on a Swiss adve...</td>\n",
       "    </tr>\n",
       "    <tr>\n",
       "      <th>6235</th>\n",
       "      <td>Movie</td>\n",
       "      <td>Barbie in A Mermaid Tale</td>\n",
       "      <td>Adam Wood</td>\n",
       "      <td>Kelly Sheridan, Kathleen Barr, Tabitha St. Ger...</td>\n",
       "      <td>United States</td>\n",
       "      <td>October 1, 2017</td>\n",
       "      <td>2010</td>\n",
       "      <td>TV-Y</td>\n",
       "      <td>74 min</td>\n",
       "      <td>Children &amp; Family Movies</td>\n",
       "      <td>Surf champ Merliah discovers she's actually a ...</td>\n",
       "    </tr>\n",
       "    <tr>\n",
       "      <th>6236</th>\n",
       "      <td>Movie</td>\n",
       "      <td>Barbie in Princess Power</td>\n",
       "      <td>Zeke Norton</td>\n",
       "      <td>Kelly Sheridan, Britt Irvin, Michael Kopsa, Re...</td>\n",
       "      <td>United States</td>\n",
       "      <td>October 1, 2017</td>\n",
       "      <td>2015</td>\n",
       "      <td>TV-Y</td>\n",
       "      <td>74 min</td>\n",
       "      <td>Children &amp; Family Movies</td>\n",
       "      <td>A princess with a predictable life finds herse...</td>\n",
       "    </tr>\n",
       "    <tr>\n",
       "      <th>6363</th>\n",
       "      <td>Movie</td>\n",
       "      <td>Born to Be Free</td>\n",
       "      <td>Gayane Petrosyan</td>\n",
       "      <td>Casting a light on the mistreatment of sea mam...</td>\n",
       "      <td>United Kingdom, Russia</td>\n",
       "      <td>April 1, 2017</td>\n",
       "      <td>2016</td>\n",
       "      <td>TV-14</td>\n",
       "      <td>74 min</td>\n",
       "      <td>Documentaries, International Movies</td>\n",
       "      <td>Casting a light on the mistreatment of sea mam...</td>\n",
       "    </tr>\n",
       "    <tr>\n",
       "      <th>6432</th>\n",
       "      <td>Movie</td>\n",
       "      <td>Catching the Sun</td>\n",
       "      <td>Shalini Kantayya</td>\n",
       "      <td>NaN</td>\n",
       "      <td>China, Germany, India, United States</td>\n",
       "      <td>April 22, 2016</td>\n",
       "      <td>2015</td>\n",
       "      <td>TV-14</td>\n",
       "      <td>74 min</td>\n",
       "      <td>Documentaries</td>\n",
       "      <td>This documentary explores the worldwide econom...</td>\n",
       "    </tr>\n",
       "    <tr>\n",
       "      <th>6688</th>\n",
       "      <td>Movie</td>\n",
       "      <td>Emma' (Mother)</td>\n",
       "      <td>Riri Riza</td>\n",
       "      <td>Cut Mini Theo, Christoffer Nelwan, Arman Dewar...</td>\n",
       "      <td>Indonesia</td>\n",
       "      <td>October 5, 2018</td>\n",
       "      <td>2016</td>\n",
       "      <td>TV-PG</td>\n",
       "      <td>74 min</td>\n",
       "      <td>Dramas, International Movies</td>\n",
       "      <td>In 1950s Makassar, the life of a devoted mothe...</td>\n",
       "    </tr>\n",
       "    <tr>\n",
       "      <th>6786</th>\n",
       "      <td>Movie</td>\n",
       "      <td>Forever Chape</td>\n",
       "      <td>Luis Ara</td>\n",
       "      <td>NaN</td>\n",
       "      <td>Brazil</td>\n",
       "      <td>August 2, 2018</td>\n",
       "      <td>2018</td>\n",
       "      <td>TV-MA</td>\n",
       "      <td>74 min</td>\n",
       "      <td>Documentaries, International Movies, Sports Mo...</td>\n",
       "      <td>In the wake of the plane crash that claimed th...</td>\n",
       "    </tr>\n",
       "    <tr>\n",
       "      <th>7492</th>\n",
       "      <td>Movie</td>\n",
       "      <td>Monster High: Freaky Fusion</td>\n",
       "      <td>William Lau, Sylvain Blais</td>\n",
       "      <td>Cam Clarke, Audu Paden, Laura Bailey, Cindy Ro...</td>\n",
       "      <td>United States</td>\n",
       "      <td>January 30, 2018</td>\n",
       "      <td>2014</td>\n",
       "      <td>TV-Y7</td>\n",
       "      <td>74 min</td>\n",
       "      <td>Children &amp; Family Movies</td>\n",
       "      <td>When Frankie Stein travels back in time, a tee...</td>\n",
       "    </tr>\n",
       "    <tr>\n",
       "      <th>7495</th>\n",
       "      <td>Movie</td>\n",
       "      <td>Monster High: Frights, Camera, Action!</td>\n",
       "      <td>William Lau</td>\n",
       "      <td>Sue Swan, Kate Higgins, Celeste Henderson, Mar...</td>\n",
       "      <td>United States</td>\n",
       "      <td>January 1, 2018</td>\n",
       "      <td>2014</td>\n",
       "      <td>TV-Y7</td>\n",
       "      <td>74 min</td>\n",
       "      <td>Children &amp; Family Movies</td>\n",
       "      <td>Draculaura is whisked to Transylvania to be cr...</td>\n",
       "    </tr>\n",
       "    <tr>\n",
       "      <th>7514</th>\n",
       "      <td>Movie</td>\n",
       "      <td>Mountain</td>\n",
       "      <td>Jennifer Peedom</td>\n",
       "      <td>NaN</td>\n",
       "      <td>Australia</td>\n",
       "      <td>October 1, 2018</td>\n",
       "      <td>2017</td>\n",
       "      <td>PG</td>\n",
       "      <td>74 min</td>\n",
       "      <td>Action &amp; Adventure, Documentaries, Internation...</td>\n",
       "      <td>Featuring breathtaking imagery and thought-pro...</td>\n",
       "    </tr>\n",
       "    <tr>\n",
       "      <th>8753</th>\n",
       "      <td>Movie</td>\n",
       "      <td>Withdrawn</td>\n",
       "      <td>Adrian Murray</td>\n",
       "      <td>Aaron Keogh, Molly Reisman, Dean Tardioli, Gre...</td>\n",
       "      <td>Canada</td>\n",
       "      <td>May 1, 2018</td>\n",
       "      <td>2017</td>\n",
       "      <td>TV-MA</td>\n",
       "      <td>74 min</td>\n",
       "      <td>Dramas, Independent Movies</td>\n",
       "      <td>Unable to pay bills and unwilling to change hi...</td>\n",
       "    </tr>\n",
       "  </tbody>\n",
       "</table>\n",
       "</div>"
      ],
      "text/plain": [
       "       type                                              title  \\\n",
       "423   Movie                    Chhota Bheem: Master of Shaolin   \n",
       "757   Movie     Breaking Boundaries: The Science Of Our Planet   \n",
       "1198  Movie               RebellComedy: Straight Outta the Zoo   \n",
       "1719  Movie                      We Are All For The Fatherland   \n",
       "3265  Movie                          El sendero de la anaconda   \n",
       "3278  Movie                                          SunGanges   \n",
       "3761  Movie                                           Belmonte   \n",
       "4123  Movie          ReMastered: The Two Killings of Sam Cooke   \n",
       "4152  Movie                                          Bhasmasur   \n",
       "4482  Movie                            ADAM SANDLER 100% FRESH   \n",
       "4715  Movie            Flavors of Youth: International Version   \n",
       "4820  Movie                              Derren Brown: Miracle   \n",
       "4827  Movie                     Pacificum: Return to the Ocean   \n",
       "4851  Movie  Steve Martin and Martin Short: An Evening You ...   \n",
       "4972  Movie                                            Paradox   \n",
       "5379  Movie                      Tom Segura: Completely Normal   \n",
       "5541  Movie                                    Louis C.K. 2017   \n",
       "5639  Movie                                Jim Gaffigan: Cinco   \n",
       "5865  Movie         Marvel Super Hero Adventures: Frost Fight!   \n",
       "5875  Movie                         Tom Segura: Mostly Stories   \n",
       "5880  Movie  Trailer Park Boys: Drunk, High and Unemployed:...   \n",
       "6234  Movie                Barbie & Her Sisters in a Pony Tale   \n",
       "6235  Movie                           Barbie in A Mermaid Tale   \n",
       "6236  Movie                           Barbie in Princess Power   \n",
       "6363  Movie                                    Born to Be Free   \n",
       "6432  Movie                                   Catching the Sun   \n",
       "6688  Movie                                     Emma' (Mother)   \n",
       "6786  Movie                                      Forever Chape   \n",
       "7492  Movie                        Monster High: Freaky Fusion   \n",
       "7495  Movie             Monster High: Frights, Camera, Action!   \n",
       "7514  Movie                                           Mountain   \n",
       "8753  Movie                                          Withdrawn   \n",
       "\n",
       "                                               director  \\\n",
       "423                                       Rajiv Chilaka   \n",
       "757                                       Jonathan Clay   \n",
       "1198                                   Ladislaus Kiraly   \n",
       "1719                                                NaN   \n",
       "3265                                  Alessandro Angulo   \n",
       "3278                                      Valli Bindana   \n",
       "3761                                    Federico Veiroj   \n",
       "4123                             Kelly Duane de la Vega   \n",
       "4152                                       Nishil Sheth   \n",
       "4482                                        Steve Brill   \n",
       "4715        Xiaoxing Yi, Yoshitaka Takeuchi, Haoling Li   \n",
       "4820                                                NaN   \n",
       "4827                     Mariana Tschudi, Héctor Gálvez   \n",
       "4851                                       Marcus Raboy   \n",
       "4972                                       Daryl Hannah   \n",
       "5379                                        Jay Chapman   \n",
       "5541                                         Louis C.K.   \n",
       "5639                                   Jeannie Gaffigan   \n",
       "5865                                      Mitch Schauer   \n",
       "5875                                          Jay Karas   \n",
       "5880  Gary Howsam, Mike Smith, John Paul Tremblay, R...   \n",
       "6234                                        Kyran Kelly   \n",
       "6235                                          Adam Wood   \n",
       "6236                                        Zeke Norton   \n",
       "6363                                   Gayane Petrosyan   \n",
       "6432                                   Shalini Kantayya   \n",
       "6688                                          Riri Riza   \n",
       "6786                                           Luis Ara   \n",
       "7492                         William Lau, Sylvain Blais   \n",
       "7495                                        William Lau   \n",
       "7514                                    Jennifer Peedom   \n",
       "8753                                      Adrian Murray   \n",
       "\n",
       "                                                   cast  \\\n",
       "423   Pooja Punabi, Mausam, Julie Tejwani, Rupa Bhim...   \n",
       "757                 David Attenborough, Johan Rockström   \n",
       "1198  Khalid Bounouar, Alain Frei, Babak Ghassim, Be...   \n",
       "1719                                                NaN   \n",
       "3265                  Wade Davis, Martin von Hildebrand   \n",
       "3278                                   Naseeruddin Shah   \n",
       "3761  Gonzalo Delgado, Olivia Molinaro Eijo, Jeannet...   \n",
       "4123                                          Sam Cooke   \n",
       "4152  Imran Rasheed, Mittal Chouhan, Trimala Adhikar...   \n",
       "4482                                       Adam Sandler   \n",
       "4715  Taito Ban, Mariya Ise, Minako Kotobuki, Haruka...   \n",
       "4820                                       Derren Brown   \n",
       "4827                                                NaN   \n",
       "4851                         Steve Martin, Martin Short   \n",
       "4972  Neil Young, Lukas Nelson, Micah Nelson, Corey ...   \n",
       "5379                                         Tom Segura   \n",
       "5541                                         Louis C.K.   \n",
       "5639                                       Jim Gaffigan   \n",
       "5865  Mick Wingert, Matthew Mercer, Travis Willingha...   \n",
       "5875                                         Tom Segura   \n",
       "5880  Mike Smith, John Paul Tremblay, Robb Wells, Jo...   \n",
       "6234  Kelly Sheridan, Kazumi Evans, Claire Corlett, ...   \n",
       "6235  Kelly Sheridan, Kathleen Barr, Tabitha St. Ger...   \n",
       "6236  Kelly Sheridan, Britt Irvin, Michael Kopsa, Re...   \n",
       "6363  Casting a light on the mistreatment of sea mam...   \n",
       "6432                                                NaN   \n",
       "6688  Cut Mini Theo, Christoffer Nelwan, Arman Dewar...   \n",
       "6786                                                NaN   \n",
       "7492  Cam Clarke, Audu Paden, Laura Bailey, Cindy Ro...   \n",
       "7495  Sue Swan, Kate Higgins, Celeste Henderson, Mar...   \n",
       "7514                                                NaN   \n",
       "8753  Aaron Keogh, Molly Reisman, Dean Tardioli, Gre...   \n",
       "\n",
       "                                   country         date_added  release_year  \\\n",
       "423                          United States      July 22, 2021          2011   \n",
       "757                          United States       June 4, 2021          2021   \n",
       "1198                               Germany     March 16, 2021          2021   \n",
       "1719               Lebanon, Canada, France  November 11, 2020          1979   \n",
       "3265                              Colombia  November 15, 2019          2019   \n",
       "3278                  India, United States  November 15, 2019          2018   \n",
       "3761                Uruguay, Spain, Mexico       June 7, 2019          2018   \n",
       "4123                         United States   February 8, 2019          2019   \n",
       "4152                                 India   January 29, 2019          2017   \n",
       "4482                         United States   October 23, 2018          2018   \n",
       "4715                          China, Japan     August 4, 2018          2018   \n",
       "4820                        United Kingdom      June 22, 2018          2018   \n",
       "4827                                  Peru      June 15, 2018          2017   \n",
       "4851                         United States       May 25, 2018          2018   \n",
       "4972                         United States     March 23, 2018          2018   \n",
       "5379                         United States      July 13, 2017          2014   \n",
       "5541                         United States      April 4, 2017          2017   \n",
       "5639                         United States   January 10, 2017          2017   \n",
       "5865                         United States  February 24, 2016          2015   \n",
       "5875                         United States    January 8, 2016          2016   \n",
       "5880                                Canada   December 9, 2015          2015   \n",
       "6234                         United States    October 1, 2017          2013   \n",
       "6235                         United States    October 1, 2017          2010   \n",
       "6236                         United States    October 1, 2017          2015   \n",
       "6363                United Kingdom, Russia      April 1, 2017          2016   \n",
       "6432  China, Germany, India, United States     April 22, 2016          2015   \n",
       "6688                             Indonesia    October 5, 2018          2016   \n",
       "6786                                Brazil     August 2, 2018          2018   \n",
       "7492                         United States   January 30, 2018          2014   \n",
       "7495                         United States    January 1, 2018          2014   \n",
       "7514                             Australia    October 1, 2018          2017   \n",
       "8753                                Canada        May 1, 2018          2017   \n",
       "\n",
       "      rating duration                                             geners  \\\n",
       "423    TV-Y7   74 min                           Children & Family Movies   \n",
       "757    TV-PG   74 min                                      Documentaries   \n",
       "1198   TV-MA   74 min                                    Stand-Up Comedy   \n",
       "1719   TV-14   74 min                Documentaries, International Movies   \n",
       "3265   TV-14   74 min                Documentaries, International Movies   \n",
       "3278   TV-14   74 min                Documentaries, International Movies   \n",
       "3761   TV-MA   74 min   Dramas, Independent Movies, International Movies   \n",
       "4123   TV-MA   74 min                    Documentaries, Music & Musicals   \n",
       "4152   TV-14   74 min   Dramas, Independent Movies, International Movies   \n",
       "4482   TV-MA   74 min                                    Stand-Up Comedy   \n",
       "4715   TV-PG   74 min  Anime Features, International Movies, Romantic...   \n",
       "4820   TV-MA   74 min                               International Movies   \n",
       "4827    TV-G   74 min                Documentaries, International Movies   \n",
       "4851   TV-14   74 min                                    Stand-Up Comedy   \n",
       "4972   TV-MA   74 min       Dramas, Independent Movies, Music & Musicals   \n",
       "5379   TV-MA   74 min                                    Stand-Up Comedy   \n",
       "5541  74 min   74 min                                             Movies   \n",
       "5639   TV-14   74 min                                    Stand-Up Comedy   \n",
       "5865      PG   74 min         Children & Family Movies, Sci-Fi & Fantasy   \n",
       "5875   TV-MA   74 min                                    Stand-Up Comedy   \n",
       "5880   TV-MA   74 min                     Comedies, International Movies   \n",
       "6234    TV-Y   74 min                           Children & Family Movies   \n",
       "6235    TV-Y   74 min                           Children & Family Movies   \n",
       "6236    TV-Y   74 min                           Children & Family Movies   \n",
       "6363   TV-14   74 min                Documentaries, International Movies   \n",
       "6432   TV-14   74 min                                      Documentaries   \n",
       "6688   TV-PG   74 min                       Dramas, International Movies   \n",
       "6786   TV-MA   74 min  Documentaries, International Movies, Sports Mo...   \n",
       "7492   TV-Y7   74 min                           Children & Family Movies   \n",
       "7495   TV-Y7   74 min                           Children & Family Movies   \n",
       "7514      PG   74 min  Action & Adventure, Documentaries, Internation...   \n",
       "8753   TV-MA   74 min                         Dramas, Independent Movies   \n",
       "\n",
       "                                            description  \n",
       "423   Summoned by a monk to help reclaim a temple fr...  \n",
       "757   David Attenborough and scientist Johan Rockstr...  \n",
       "1198  The comics of RebellComedy take the stage and ...  \n",
       "1719  After the 1978 Israeli invasion of Lebanon, ch...  \n",
       "3265  In the most remote areas of the Amazon jungle,...  \n",
       "3278  A trio of filmmakers treks across India to exp...  \n",
       "3761  An artist muddles through a midlife crisis whi...  \n",
       "4123  While Sam Cooke rose to stardom as a soul sing...  \n",
       "4152  In this heart-wrenching coming-of-age story, a...  \n",
       "4482  From \"Heroes\" to \"Ice Cream Ladies\" – Adam San...  \n",
       "4715  Memories in a bowl of steaming noodles, a fadi...  \n",
       "4820  Illusionist Derren Brown reinvents the concept...  \n",
       "4827  Four scientists offer a sweeping yet intimate ...  \n",
       "4851  Longtime pals and showbiz icons Steve Martin a...  \n",
       "4972  Neil Young and his band of outlaws sow seeds o...  \n",
       "5379  Levelheaded stand-up Tom Segura shares offhand...  \n",
       "5541  Louis C.K. muses on religion, eternal love, gi...  \n",
       "5639  America's king of clean comedy delivers wicked...  \n",
       "5865  In this Christmas-themed special, Captain Amer...  \n",
       "5875  The bearded, bawdy and comically bitter Tom Se...  \n",
       "5880  Ricky, Julian and Bubbles bring their trailer ...  \n",
       "6234  Barbie and her sisters set off on a Swiss adve...  \n",
       "6235  Surf champ Merliah discovers she's actually a ...  \n",
       "6236  A princess with a predictable life finds herse...  \n",
       "6363  Casting a light on the mistreatment of sea mam...  \n",
       "6432  This documentary explores the worldwide econom...  \n",
       "6688  In 1950s Makassar, the life of a devoted mothe...  \n",
       "6786  In the wake of the plane crash that claimed th...  \n",
       "7492  When Frankie Stein travels back in time, a tee...  \n",
       "7495  Draculaura is whisked to Transylvania to be cr...  \n",
       "7514  Featuring breathtaking imagery and thought-pro...  \n",
       "8753  Unable to pay bills and unwilling to change hi...  "
      ]
     },
     "execution_count": 22,
     "metadata": {},
     "output_type": "execute_result"
    }
   ],
   "source": [
    "nf_data.loc[nf_data['duration'] == '74 min']"
   ]
  },
  {
   "cell_type": "code",
   "execution_count": 23,
   "id": "e314fcd6",
   "metadata": {},
   "outputs": [
    {
     "data": {
      "text/html": [
       "<div>\n",
       "<style scoped>\n",
       "    .dataframe tbody tr th:only-of-type {\n",
       "        vertical-align: middle;\n",
       "    }\n",
       "\n",
       "    .dataframe tbody tr th {\n",
       "        vertical-align: top;\n",
       "    }\n",
       "\n",
       "    .dataframe thead th {\n",
       "        text-align: right;\n",
       "    }\n",
       "</style>\n",
       "<table border=\"1\" class=\"dataframe\">\n",
       "  <thead>\n",
       "    <tr style=\"text-align: right;\">\n",
       "      <th></th>\n",
       "      <th>Remaing</th>\n",
       "      <th>Total Missing</th>\n",
       "      <th>In Percentage</th>\n",
       "    </tr>\n",
       "  </thead>\n",
       "  <tbody>\n",
       "    <tr>\n",
       "      <th>director</th>\n",
       "      <td>6173</td>\n",
       "      <td>2634</td>\n",
       "      <td>29.91</td>\n",
       "    </tr>\n",
       "    <tr>\n",
       "      <th>cast</th>\n",
       "      <td>7982</td>\n",
       "      <td>825</td>\n",
       "      <td>9.37</td>\n",
       "    </tr>\n",
       "    <tr>\n",
       "      <th>date_added</th>\n",
       "      <td>8797</td>\n",
       "      <td>10</td>\n",
       "      <td>0.11</td>\n",
       "    </tr>\n",
       "    <tr>\n",
       "      <th>type</th>\n",
       "      <td>8807</td>\n",
       "      <td>0</td>\n",
       "      <td>0.00</td>\n",
       "    </tr>\n",
       "    <tr>\n",
       "      <th>title</th>\n",
       "      <td>8807</td>\n",
       "      <td>0</td>\n",
       "      <td>0.00</td>\n",
       "    </tr>\n",
       "    <tr>\n",
       "      <th>country</th>\n",
       "      <td>8807</td>\n",
       "      <td>0</td>\n",
       "      <td>0.00</td>\n",
       "    </tr>\n",
       "    <tr>\n",
       "      <th>release_year</th>\n",
       "      <td>8807</td>\n",
       "      <td>0</td>\n",
       "      <td>0.00</td>\n",
       "    </tr>\n",
       "    <tr>\n",
       "      <th>rating</th>\n",
       "      <td>8807</td>\n",
       "      <td>0</td>\n",
       "      <td>0.00</td>\n",
       "    </tr>\n",
       "    <tr>\n",
       "      <th>duration</th>\n",
       "      <td>8807</td>\n",
       "      <td>0</td>\n",
       "      <td>0.00</td>\n",
       "    </tr>\n",
       "    <tr>\n",
       "      <th>geners</th>\n",
       "      <td>8807</td>\n",
       "      <td>0</td>\n",
       "      <td>0.00</td>\n",
       "    </tr>\n",
       "  </tbody>\n",
       "</table>\n",
       "</div>"
      ],
      "text/plain": [
       "              Remaing  Total Missing  In Percentage\n",
       "director         6173           2634          29.91\n",
       "cast             7982            825           9.37\n",
       "date_added       8797             10           0.11\n",
       "type             8807              0           0.00\n",
       "title            8807              0           0.00\n",
       "country          8807              0           0.00\n",
       "release_year     8807              0           0.00\n",
       "rating           8807              0           0.00\n",
       "duration         8807              0           0.00\n",
       "geners           8807              0           0.00"
      ]
     },
     "execution_count": 23,
     "metadata": {},
     "output_type": "execute_result"
    }
   ],
   "source": [
    "# Checking missing data again to make sure\n",
    "total_null=nf_data.isnull().sum().sort_values(ascending=False)\n",
    "# Converting missing value to Percent\n",
    "percentage=(nf_data.isnull().sum()/len(nf_data)*100).sort_values(ascending=False)\n",
    "# Total values count after missing\n",
    "Total=nf_data.count().sort_values(ascending=True)\n",
    "#  concatinating All in dataframe\n",
    "missing_data=pd.concat([Total,total_null,percentage.round(2)],axis=1,keys=['Remaing','Total Missing','In Percentage'])\n",
    "missing_data.head(10)"
   ]
  },
  {
   "cell_type": "code",
   "execution_count": 24,
   "id": "01bca302",
   "metadata": {},
   "outputs": [],
   "source": [
    "# Using imputation technique to replace 'duration' value to 'NR' which were present in 'rating'\n",
    "nf_data['rating'].replace({'74 min':'NR'},inplace=True)\n",
    "nf_data['rating'].replace({'84 min':'NR'},inplace=True)\n",
    "nf_data['rating'].replace({'66 min':'NR'},inplace=True)"
   ]
  },
  {
   "cell_type": "code",
   "execution_count": 25,
   "id": "3cd13a48",
   "metadata": {},
   "outputs": [
    {
     "data": {
      "text/html": [
       "<div>\n",
       "<style scoped>\n",
       "    .dataframe tbody tr th:only-of-type {\n",
       "        vertical-align: middle;\n",
       "    }\n",
       "\n",
       "    .dataframe tbody tr th {\n",
       "        vertical-align: top;\n",
       "    }\n",
       "\n",
       "    .dataframe thead th {\n",
       "        text-align: right;\n",
       "    }\n",
       "</style>\n",
       "<table border=\"1\" class=\"dataframe\">\n",
       "  <thead>\n",
       "    <tr style=\"text-align: right;\">\n",
       "      <th></th>\n",
       "      <th>type</th>\n",
       "      <th>title</th>\n",
       "      <th>director</th>\n",
       "      <th>cast</th>\n",
       "      <th>country</th>\n",
       "      <th>date_added</th>\n",
       "      <th>release_year</th>\n",
       "      <th>rating</th>\n",
       "      <th>duration</th>\n",
       "      <th>geners</th>\n",
       "      <th>description</th>\n",
       "    </tr>\n",
       "  </thead>\n",
       "  <tbody>\n",
       "    <tr>\n",
       "      <th>5541</th>\n",
       "      <td>Movie</td>\n",
       "      <td>Louis C.K. 2017</td>\n",
       "      <td>Louis C.K.</td>\n",
       "      <td>Louis C.K.</td>\n",
       "      <td>United States</td>\n",
       "      <td>April 4, 2017</td>\n",
       "      <td>2017</td>\n",
       "      <td>NR</td>\n",
       "      <td>74 min</td>\n",
       "      <td>Movies</td>\n",
       "      <td>Louis C.K. muses on religion, eternal love, gi...</td>\n",
       "    </tr>\n",
       "    <tr>\n",
       "      <th>5794</th>\n",
       "      <td>Movie</td>\n",
       "      <td>Louis C.K.: Hilarious</td>\n",
       "      <td>Louis C.K.</td>\n",
       "      <td>Louis C.K.</td>\n",
       "      <td>United States</td>\n",
       "      <td>September 16, 2016</td>\n",
       "      <td>2010</td>\n",
       "      <td>NR</td>\n",
       "      <td>84 min</td>\n",
       "      <td>Movies</td>\n",
       "      <td>Emmy-winning comedy writer Louis C.K. brings h...</td>\n",
       "    </tr>\n",
       "    <tr>\n",
       "      <th>5813</th>\n",
       "      <td>Movie</td>\n",
       "      <td>Louis C.K.: Live at the Comedy Store</td>\n",
       "      <td>Louis C.K.</td>\n",
       "      <td>Louis C.K.</td>\n",
       "      <td>United States</td>\n",
       "      <td>August 15, 2016</td>\n",
       "      <td>2015</td>\n",
       "      <td>NR</td>\n",
       "      <td>66 min</td>\n",
       "      <td>Movies</td>\n",
       "      <td>The comic puts his trademark hilarious/thought...</td>\n",
       "    </tr>\n",
       "    <tr>\n",
       "      <th>5971</th>\n",
       "      <td>Movie</td>\n",
       "      <td>(T)ERROR</td>\n",
       "      <td>Lyric R. Cabral, David Felix Sutcliffe</td>\n",
       "      <td>NaN</td>\n",
       "      <td>United States</td>\n",
       "      <td>June 30, 2016</td>\n",
       "      <td>2015</td>\n",
       "      <td>NR</td>\n",
       "      <td>84 min</td>\n",
       "      <td>Documentaries</td>\n",
       "      <td>This real-life look at FBI counterterrorism op...</td>\n",
       "    </tr>\n",
       "    <tr>\n",
       "      <th>5987</th>\n",
       "      <td>Movie</td>\n",
       "      <td>13 Cameras</td>\n",
       "      <td>Victor Zarcoff</td>\n",
       "      <td>PJ McCabe, Brianne Moncrief, Sarah Baldwin, Ji...</td>\n",
       "      <td>United States</td>\n",
       "      <td>August 13, 2016</td>\n",
       "      <td>2015</td>\n",
       "      <td>NR</td>\n",
       "      <td>90 min</td>\n",
       "      <td>Horror Movies, Independent Movies, Thrillers</td>\n",
       "      <td>Young parents-to-be Claire and Ryan move into ...</td>\n",
       "    </tr>\n",
       "    <tr>\n",
       "      <th>...</th>\n",
       "      <td>...</td>\n",
       "      <td>...</td>\n",
       "      <td>...</td>\n",
       "      <td>...</td>\n",
       "      <td>...</td>\n",
       "      <td>...</td>\n",
       "      <td>...</td>\n",
       "      <td>...</td>\n",
       "      <td>...</td>\n",
       "      <td>...</td>\n",
       "      <td>...</td>\n",
       "    </tr>\n",
       "    <tr>\n",
       "      <th>8674</th>\n",
       "      <td>Movie</td>\n",
       "      <td>Viceroy's House</td>\n",
       "      <td>Gurinder Chadha</td>\n",
       "      <td>Hugh Bonneville, Gillian Anderson, Manish Daya...</td>\n",
       "      <td>United Kingdom, India, Sweden</td>\n",
       "      <td>December 12, 2017</td>\n",
       "      <td>2017</td>\n",
       "      <td>NR</td>\n",
       "      <td>106 min</td>\n",
       "      <td>Dramas</td>\n",
       "      <td>As viceroy Lord Mountbatten arrives in Delhi t...</td>\n",
       "    </tr>\n",
       "    <tr>\n",
       "      <th>8682</th>\n",
       "      <td>Movie</td>\n",
       "      <td>Vizontele Tuuba</td>\n",
       "      <td>Yılmaz Erdoğan</td>\n",
       "      <td>Yılmaz Erdoğan, Tarık Akan, Altan Erkekli, Cez...</td>\n",
       "      <td>Turkey</td>\n",
       "      <td>March 10, 2017</td>\n",
       "      <td>2004</td>\n",
       "      <td>NR</td>\n",
       "      <td>106 min</td>\n",
       "      <td>Comedies, Dramas, International Movies</td>\n",
       "      <td>With civil war looming, a TV-obsessed Turkish ...</td>\n",
       "    </tr>\n",
       "    <tr>\n",
       "      <th>8727</th>\n",
       "      <td>Movie</td>\n",
       "      <td>When Hari Got Married</td>\n",
       "      <td>Ritu Sarin, Tenzing Sonam</td>\n",
       "      <td>NaN</td>\n",
       "      <td>United Kingdom, India, United States</td>\n",
       "      <td>December 25, 2016</td>\n",
       "      <td>2013</td>\n",
       "      <td>NR</td>\n",
       "      <td>75 min</td>\n",
       "      <td>Documentaries, International Movies</td>\n",
       "      <td>A small-town taxi driver is arranged to be mar...</td>\n",
       "    </tr>\n",
       "    <tr>\n",
       "      <th>8748</th>\n",
       "      <td>Movie</td>\n",
       "      <td>Winter of Our Dreams</td>\n",
       "      <td>John Duigan</td>\n",
       "      <td>Judy Davis, Bryan Brown, Cathy Downes, Baz Luh...</td>\n",
       "      <td>Australia</td>\n",
       "      <td>November 1, 2016</td>\n",
       "      <td>1981</td>\n",
       "      <td>NR</td>\n",
       "      <td>86 min</td>\n",
       "      <td>Classic Movies, Dramas</td>\n",
       "      <td>After the death of a long-ago lover, married p...</td>\n",
       "    </tr>\n",
       "    <tr>\n",
       "      <th>8792</th>\n",
       "      <td>Movie</td>\n",
       "      <td>Young Tiger</td>\n",
       "      <td>Mu Chu</td>\n",
       "      <td>Qiu Yuen, Charlie Chin, Jackie Chan, Hu Chin, ...</td>\n",
       "      <td>Hong Kong</td>\n",
       "      <td>November 1, 2016</td>\n",
       "      <td>1973</td>\n",
       "      <td>NR</td>\n",
       "      <td>81 min</td>\n",
       "      <td>Action &amp; Adventure, International Movies</td>\n",
       "      <td>Aided only by a tough female police officer, a...</td>\n",
       "    </tr>\n",
       "  </tbody>\n",
       "</table>\n",
       "<p>87 rows × 11 columns</p>\n",
       "</div>"
      ],
      "text/plain": [
       "       type                                 title  \\\n",
       "5541  Movie                       Louis C.K. 2017   \n",
       "5794  Movie                 Louis C.K.: Hilarious   \n",
       "5813  Movie  Louis C.K.: Live at the Comedy Store   \n",
       "5971  Movie                              (T)ERROR   \n",
       "5987  Movie                            13 Cameras   \n",
       "...     ...                                   ...   \n",
       "8674  Movie                       Viceroy's House   \n",
       "8682  Movie                       Vizontele Tuuba   \n",
       "8727  Movie                 When Hari Got Married   \n",
       "8748  Movie                  Winter of Our Dreams   \n",
       "8792  Movie                           Young Tiger   \n",
       "\n",
       "                                    director  \\\n",
       "5541                              Louis C.K.   \n",
       "5794                              Louis C.K.   \n",
       "5813                              Louis C.K.   \n",
       "5971  Lyric R. Cabral, David Felix Sutcliffe   \n",
       "5987                          Victor Zarcoff   \n",
       "...                                      ...   \n",
       "8674                         Gurinder Chadha   \n",
       "8682                          Yılmaz Erdoğan   \n",
       "8727               Ritu Sarin, Tenzing Sonam   \n",
       "8748                             John Duigan   \n",
       "8792                                  Mu Chu   \n",
       "\n",
       "                                                   cast  \\\n",
       "5541                                         Louis C.K.   \n",
       "5794                                         Louis C.K.   \n",
       "5813                                         Louis C.K.   \n",
       "5971                                                NaN   \n",
       "5987  PJ McCabe, Brianne Moncrief, Sarah Baldwin, Ji...   \n",
       "...                                                 ...   \n",
       "8674  Hugh Bonneville, Gillian Anderson, Manish Daya...   \n",
       "8682  Yılmaz Erdoğan, Tarık Akan, Altan Erkekli, Cez...   \n",
       "8727                                                NaN   \n",
       "8748  Judy Davis, Bryan Brown, Cathy Downes, Baz Luh...   \n",
       "8792  Qiu Yuen, Charlie Chin, Jackie Chan, Hu Chin, ...   \n",
       "\n",
       "                                   country          date_added  release_year  \\\n",
       "5541                         United States       April 4, 2017          2017   \n",
       "5794                         United States  September 16, 2016          2010   \n",
       "5813                         United States     August 15, 2016          2015   \n",
       "5971                         United States       June 30, 2016          2015   \n",
       "5987                         United States     August 13, 2016          2015   \n",
       "...                                    ...                 ...           ...   \n",
       "8674         United Kingdom, India, Sweden   December 12, 2017          2017   \n",
       "8682                                Turkey      March 10, 2017          2004   \n",
       "8727  United Kingdom, India, United States   December 25, 2016          2013   \n",
       "8748                             Australia    November 1, 2016          1981   \n",
       "8792                             Hong Kong    November 1, 2016          1973   \n",
       "\n",
       "     rating duration                                        geners  \\\n",
       "5541     NR   74 min                                        Movies   \n",
       "5794     NR   84 min                                        Movies   \n",
       "5813     NR   66 min                                        Movies   \n",
       "5971     NR   84 min                                 Documentaries   \n",
       "5987     NR   90 min  Horror Movies, Independent Movies, Thrillers   \n",
       "...     ...      ...                                           ...   \n",
       "8674     NR  106 min                                        Dramas   \n",
       "8682     NR  106 min        Comedies, Dramas, International Movies   \n",
       "8727     NR   75 min           Documentaries, International Movies   \n",
       "8748     NR   86 min                        Classic Movies, Dramas   \n",
       "8792     NR   81 min      Action & Adventure, International Movies   \n",
       "\n",
       "                                            description  \n",
       "5541  Louis C.K. muses on religion, eternal love, gi...  \n",
       "5794  Emmy-winning comedy writer Louis C.K. brings h...  \n",
       "5813  The comic puts his trademark hilarious/thought...  \n",
       "5971  This real-life look at FBI counterterrorism op...  \n",
       "5987  Young parents-to-be Claire and Ryan move into ...  \n",
       "...                                                 ...  \n",
       "8674  As viceroy Lord Mountbatten arrives in Delhi t...  \n",
       "8682  With civil war looming, a TV-obsessed Turkish ...  \n",
       "8727  A small-town taxi driver is arranged to be mar...  \n",
       "8748  After the death of a long-ago lover, married p...  \n",
       "8792  Aided only by a tough female police officer, a...  \n",
       "\n",
       "[87 rows x 11 columns]"
      ]
     },
     "execution_count": 25,
     "metadata": {},
     "output_type": "execute_result"
    }
   ],
   "source": [
    "# Result after imputation\n",
    "nf_data[nf_data[\"rating\"] == 'NR']"
   ]
  },
  {
   "cell_type": "code",
   "execution_count": 26,
   "id": "955db5a4",
   "metadata": {},
   "outputs": [
    {
     "data": {
      "text/plain": [
       "array([2020, 2021, 1993, 2018, 1996, 1998, 1997, 2010, 2013, 2017, 1975,\n",
       "       1978, 1983, 1987, 2012, 2001, 2014, 2002, 2003, 2004, 2011, 2008,\n",
       "       2009, 2007, 2005, 2006, 1994, 2015, 2019, 2016, 1982, 1989, 1990,\n",
       "       1991, 1999, 1986, 1992, 1984, 1980, 1961, 2000, 1995, 1985, 1976,\n",
       "       1959, 1988, 1981, 1972, 1964, 1945, 1954, 1979, 1958, 1956, 1963,\n",
       "       1970, 1973, 1925, 1974, 1960, 1966, 1971, 1962, 1969, 1977, 1967,\n",
       "       1968, 1965, 1946, 1942, 1955, 1944, 1947, 1943], dtype=int64)"
      ]
     },
     "execution_count": 26,
     "metadata": {},
     "output_type": "execute_result"
    }
   ],
   "source": [
    "nf_data['release_year'].unique()"
   ]
  },
  {
   "cell_type": "code",
   "execution_count": 27,
   "id": "378d3835",
   "metadata": {},
   "outputs": [],
   "source": [
    "# DATA PREPARATION\n",
    "\n"
   ]
  },
  {
   "cell_type": "code",
   "execution_count": 28,
   "id": "ad4031ec",
   "metadata": {},
   "outputs": [
    {
     "name": "stdout",
     "output_type": "stream",
     "text": [
      "<class 'pandas.core.frame.DataFrame'>\n",
      "Int64Index: 8807 entries, 0 to 8806\n",
      "Data columns (total 11 columns):\n",
      " #   Column        Non-Null Count  Dtype \n",
      "---  ------        --------------  ----- \n",
      " 0   type          8807 non-null   object\n",
      " 1   title         8807 non-null   object\n",
      " 2   director      6173 non-null   object\n",
      " 3   cast          7982 non-null   object\n",
      " 4   country       8807 non-null   object\n",
      " 5   date_added    8797 non-null   object\n",
      " 6   release_year  8807 non-null   int64 \n",
      " 7   rating        8807 non-null   object\n",
      " 8   duration      8807 non-null   object\n",
      " 9   geners        8807 non-null   object\n",
      " 10  description   8807 non-null   object\n",
      "dtypes: int64(1), object(10)\n",
      "memory usage: 1.1+ MB\n"
     ]
    }
   ],
   "source": [
    "# Data Validation\n",
    "nf_data.info()"
   ]
  },
  {
   "cell_type": "code",
   "execution_count": 29,
   "id": "97ab0d71",
   "metadata": {},
   "outputs": [],
   "source": [
    "# date_added is a datetime data type, hence need to update the dtype\n",
    "nf_data[\"date_added\"]=pd.to_datetime(nf_data[\"date_added\"])"
   ]
  },
  {
   "cell_type": "code",
   "execution_count": 30,
   "id": "675ecacb",
   "metadata": {},
   "outputs": [
    {
     "name": "stdout",
     "output_type": "stream",
     "text": [
      "<class 'pandas.core.frame.DataFrame'>\n",
      "Int64Index: 8807 entries, 0 to 8806\n",
      "Data columns (total 11 columns):\n",
      " #   Column        Non-Null Count  Dtype         \n",
      "---  ------        --------------  -----         \n",
      " 0   type          8807 non-null   object        \n",
      " 1   title         8807 non-null   object        \n",
      " 2   director      6173 non-null   object        \n",
      " 3   cast          7982 non-null   object        \n",
      " 4   country       8807 non-null   object        \n",
      " 5   date_added    8797 non-null   datetime64[ns]\n",
      " 6   release_year  8807 non-null   int64         \n",
      " 7   rating        8807 non-null   object        \n",
      " 8   duration      8807 non-null   object        \n",
      " 9   geners        8807 non-null   object        \n",
      " 10  description   8807 non-null   object        \n",
      "dtypes: datetime64[ns](1), int64(1), object(9)\n",
      "memory usage: 1.1+ MB\n"
     ]
    }
   ],
   "source": [
    "nf_data.info()"
   ]
  },
  {
   "cell_type": "code",
   "execution_count": 31,
   "id": "dab58edc",
   "metadata": {},
   "outputs": [],
   "source": [
    "# new features added - \"year added\" from date_added feature\n",
    "# new features added - \"month added\" from date_added feature\n",
    "# new features added - \"day added\" from date_added feature\n",
    "# new features added - \"weekend added\" from date_added feature\n",
    "# new features added - rating category based on whether the content is suitable for Kids,Teenager and Adults\n",
    "# new features added - \"season count \" for each TV shows"
   ]
  },
  {
   "cell_type": "code",
   "execution_count": 32,
   "id": "74a4c1a6",
   "metadata": {},
   "outputs": [],
   "source": [
    "# Creating the copy before manupulating the date time info\n",
    "nf_date=nf_data.copy()"
   ]
  },
  {
   "cell_type": "code",
   "execution_count": 33,
   "id": "7e0e57d5",
   "metadata": {},
   "outputs": [
    {
     "data": {
      "text/plain": [
       "(8807, 11)"
      ]
     },
     "execution_count": 33,
     "metadata": {},
     "output_type": "execute_result"
    }
   ],
   "source": [
    "nf_date.shape"
   ]
  },
  {
   "cell_type": "code",
   "execution_count": 34,
   "id": "4cbbcacd",
   "metadata": {},
   "outputs": [],
   "source": [
    "# New features adding\n",
    "\n",
    "nf_date[\"year_added\"] = nf_date[\"date_added\"].dt.year\n",
    "# nf_date[\"year_added\"] = nf_date[\"year_added\"].astype(\"int64\")\n",
    "nf_date[\"month_added\"] = nf_date[\"date_added\"].dt.month\n",
    "nf_date[\"day_added\"] = nf_date[\"date_added\"].dt.day\n"
   ]
  },
  {
   "cell_type": "code",
   "execution_count": 35,
   "id": "29124335",
   "metadata": {},
   "outputs": [
    {
     "name": "stdout",
     "output_type": "stream",
     "text": [
      "<class 'pandas.core.frame.DataFrame'>\n",
      "Int64Index: 8807 entries, 0 to 8806\n",
      "Data columns (total 14 columns):\n",
      " #   Column        Non-Null Count  Dtype         \n",
      "---  ------        --------------  -----         \n",
      " 0   type          8807 non-null   object        \n",
      " 1   title         8807 non-null   object        \n",
      " 2   director      6173 non-null   object        \n",
      " 3   cast          7982 non-null   object        \n",
      " 4   country       8807 non-null   object        \n",
      " 5   date_added    8797 non-null   datetime64[ns]\n",
      " 6   release_year  8807 non-null   int64         \n",
      " 7   rating        8807 non-null   object        \n",
      " 8   duration      8807 non-null   object        \n",
      " 9   geners        8807 non-null   object        \n",
      " 10  description   8807 non-null   object        \n",
      " 11  year_added    8797 non-null   float64       \n",
      " 12  month_added   8797 non-null   float64       \n",
      " 13  day_added     8797 non-null   float64       \n",
      "dtypes: datetime64[ns](1), float64(3), int64(1), object(9)\n",
      "memory usage: 1.3+ MB\n"
     ]
    }
   ],
   "source": [
    "nf_date.info()"
   ]
  },
  {
   "cell_type": "code",
   "execution_count": 36,
   "id": "7217febe",
   "metadata": {},
   "outputs": [],
   "source": [
    "# New features adding to \"ratings_cat\" category\n",
    "# Classifying ratings into three categories(Kids,Teen,Adults)\n",
    "\n",
    "nf_data['ratings_cat']=nf_data['rating']"
   ]
  },
  {
   "cell_type": "code",
   "execution_count": 37,
   "id": "2d5332a2",
   "metadata": {},
   "outputs": [],
   "source": [
    "# added values to the keys i.e:'Kids','Adults','Teenagers'\n",
    "# then replaced with ratings which the column was added \n",
    "custom_rating ={'TV-Y':'Kids','TV-Y7':'Kids','TV-G':'Kids','PG':'Kids','TV-PG':'Kids','TV-Y7-FV':'Kids','G':'Kids',\n",
    "               'PG-13':'Teenagers','TV-14':'Teenagers',\n",
    "                'R':'Adults','TV-MA':'Adults','NC-17':'Adults','NR':'Adults','UR':'Adults'}\n",
    "nf_data['ratings_cat'] = nf_data['rating'].replace(to_replace = custom_rating)"
   ]
  },
  {
   "cell_type": "code",
   "execution_count": 38,
   "id": "f5abbb00",
   "metadata": {},
   "outputs": [
    {
     "data": {
      "text/html": [
       "<div>\n",
       "<style scoped>\n",
       "    .dataframe tbody tr th:only-of-type {\n",
       "        vertical-align: middle;\n",
       "    }\n",
       "\n",
       "    .dataframe tbody tr th {\n",
       "        vertical-align: top;\n",
       "    }\n",
       "\n",
       "    .dataframe thead th {\n",
       "        text-align: right;\n",
       "    }\n",
       "</style>\n",
       "<table border=\"1\" class=\"dataframe\">\n",
       "  <thead>\n",
       "    <tr style=\"text-align: right;\">\n",
       "      <th></th>\n",
       "      <th>type</th>\n",
       "      <th>title</th>\n",
       "      <th>director</th>\n",
       "      <th>cast</th>\n",
       "      <th>country</th>\n",
       "      <th>date_added</th>\n",
       "      <th>release_year</th>\n",
       "      <th>rating</th>\n",
       "      <th>duration</th>\n",
       "      <th>geners</th>\n",
       "      <th>description</th>\n",
       "      <th>ratings_cat</th>\n",
       "    </tr>\n",
       "  </thead>\n",
       "  <tbody>\n",
       "    <tr>\n",
       "      <th>0</th>\n",
       "      <td>Movie</td>\n",
       "      <td>Dick Johnson Is Dead</td>\n",
       "      <td>Kirsten Johnson</td>\n",
       "      <td>NaN</td>\n",
       "      <td>United States</td>\n",
       "      <td>2021-09-25</td>\n",
       "      <td>2020</td>\n",
       "      <td>PG-13</td>\n",
       "      <td>90 min</td>\n",
       "      <td>Documentaries</td>\n",
       "      <td>As her father nears the end of his life, filmm...</td>\n",
       "      <td>Teenagers</td>\n",
       "    </tr>\n",
       "    <tr>\n",
       "      <th>1</th>\n",
       "      <td>TV Show</td>\n",
       "      <td>Blood &amp; Water</td>\n",
       "      <td>NaN</td>\n",
       "      <td>Ama Qamata, Khosi Ngema, Gail Mabalane, Thaban...</td>\n",
       "      <td>South Africa</td>\n",
       "      <td>2021-09-24</td>\n",
       "      <td>2021</td>\n",
       "      <td>TV-MA</td>\n",
       "      <td>2 Seasons</td>\n",
       "      <td>International TV Shows, TV Dramas, TV Mysteries</td>\n",
       "      <td>After crossing paths at a party, a Cape Town t...</td>\n",
       "      <td>Adults</td>\n",
       "    </tr>\n",
       "    <tr>\n",
       "      <th>2</th>\n",
       "      <td>TV Show</td>\n",
       "      <td>Ganglands</td>\n",
       "      <td>Julien Leclercq</td>\n",
       "      <td>Sami Bouajila, Tracy Gotoas, Samuel Jouy, Nabi...</td>\n",
       "      <td>United States</td>\n",
       "      <td>2021-09-24</td>\n",
       "      <td>2021</td>\n",
       "      <td>TV-MA</td>\n",
       "      <td>1 Season</td>\n",
       "      <td>Crime TV Shows, International TV Shows, TV Act...</td>\n",
       "      <td>To protect his family from a powerful drug lor...</td>\n",
       "      <td>Adults</td>\n",
       "    </tr>\n",
       "    <tr>\n",
       "      <th>3</th>\n",
       "      <td>TV Show</td>\n",
       "      <td>Jailbirds New Orleans</td>\n",
       "      <td>NaN</td>\n",
       "      <td>NaN</td>\n",
       "      <td>United States</td>\n",
       "      <td>2021-09-24</td>\n",
       "      <td>2021</td>\n",
       "      <td>TV-MA</td>\n",
       "      <td>1 Season</td>\n",
       "      <td>Docuseries, Reality TV</td>\n",
       "      <td>Feuds, flirtations and toilet talk go down amo...</td>\n",
       "      <td>Adults</td>\n",
       "    </tr>\n",
       "    <tr>\n",
       "      <th>4</th>\n",
       "      <td>TV Show</td>\n",
       "      <td>Kota Factory</td>\n",
       "      <td>NaN</td>\n",
       "      <td>Mayur More, Jitendra Kumar, Ranjan Raj, Alam K...</td>\n",
       "      <td>India</td>\n",
       "      <td>2021-09-24</td>\n",
       "      <td>2021</td>\n",
       "      <td>TV-MA</td>\n",
       "      <td>2 Seasons</td>\n",
       "      <td>International TV Shows, Romantic TV Shows, TV ...</td>\n",
       "      <td>In a city of coaching centers known to train I...</td>\n",
       "      <td>Adults</td>\n",
       "    </tr>\n",
       "  </tbody>\n",
       "</table>\n",
       "</div>"
      ],
      "text/plain": [
       "      type                  title         director  \\\n",
       "0    Movie   Dick Johnson Is Dead  Kirsten Johnson   \n",
       "1  TV Show          Blood & Water              NaN   \n",
       "2  TV Show              Ganglands  Julien Leclercq   \n",
       "3  TV Show  Jailbirds New Orleans              NaN   \n",
       "4  TV Show           Kota Factory              NaN   \n",
       "\n",
       "                                                cast        country  \\\n",
       "0                                                NaN  United States   \n",
       "1  Ama Qamata, Khosi Ngema, Gail Mabalane, Thaban...   South Africa   \n",
       "2  Sami Bouajila, Tracy Gotoas, Samuel Jouy, Nabi...  United States   \n",
       "3                                                NaN  United States   \n",
       "4  Mayur More, Jitendra Kumar, Ranjan Raj, Alam K...          India   \n",
       "\n",
       "  date_added  release_year rating   duration  \\\n",
       "0 2021-09-25          2020  PG-13     90 min   \n",
       "1 2021-09-24          2021  TV-MA  2 Seasons   \n",
       "2 2021-09-24          2021  TV-MA   1 Season   \n",
       "3 2021-09-24          2021  TV-MA   1 Season   \n",
       "4 2021-09-24          2021  TV-MA  2 Seasons   \n",
       "\n",
       "                                              geners  \\\n",
       "0                                      Documentaries   \n",
       "1    International TV Shows, TV Dramas, TV Mysteries   \n",
       "2  Crime TV Shows, International TV Shows, TV Act...   \n",
       "3                             Docuseries, Reality TV   \n",
       "4  International TV Shows, Romantic TV Shows, TV ...   \n",
       "\n",
       "                                         description ratings_cat  \n",
       "0  As her father nears the end of his life, filmm...   Teenagers  \n",
       "1  After crossing paths at a party, a Cape Town t...      Adults  \n",
       "2  To protect his family from a powerful drug lor...      Adults  \n",
       "3  Feuds, flirtations and toilet talk go down amo...      Adults  \n",
       "4  In a city of coaching centers known to train I...      Adults  "
      ]
     },
     "execution_count": 38,
     "metadata": {},
     "output_type": "execute_result"
    }
   ],
   "source": [
    "nf_data.head()"
   ]
  },
  {
   "cell_type": "code",
   "execution_count": 39,
   "id": "abd958e3",
   "metadata": {},
   "outputs": [],
   "source": [
    "# Season Count for each TV shows\n",
    "nf_data['season_count'] = nf_data.apply(lambda x : x['duration'].split(\" \")[0] if \"Season\" in x['duration'] else \"\",axis=1)\n",
    "nf_data['duration'] = nf_data.apply(lambda x : x['duration'].split(\" \")[0] if \"Season\" not in x['duration'] else \"\",axis=1)"
   ]
  },
  {
   "cell_type": "code",
   "execution_count": 40,
   "id": "5d163a80",
   "metadata": {},
   "outputs": [
    {
     "data": {
      "text/html": [
       "<div>\n",
       "<style scoped>\n",
       "    .dataframe tbody tr th:only-of-type {\n",
       "        vertical-align: middle;\n",
       "    }\n",
       "\n",
       "    .dataframe tbody tr th {\n",
       "        vertical-align: top;\n",
       "    }\n",
       "\n",
       "    .dataframe thead th {\n",
       "        text-align: right;\n",
       "    }\n",
       "</style>\n",
       "<table border=\"1\" class=\"dataframe\">\n",
       "  <thead>\n",
       "    <tr style=\"text-align: right;\">\n",
       "      <th></th>\n",
       "      <th>release_year</th>\n",
       "      <th>year_added</th>\n",
       "      <th>month_added</th>\n",
       "      <th>day_added</th>\n",
       "    </tr>\n",
       "  </thead>\n",
       "  <tbody>\n",
       "    <tr>\n",
       "      <th>count</th>\n",
       "      <td>8807.000000</td>\n",
       "      <td>8797.000000</td>\n",
       "      <td>8797.000000</td>\n",
       "      <td>8797.000000</td>\n",
       "    </tr>\n",
       "    <tr>\n",
       "      <th>mean</th>\n",
       "      <td>2014.180198</td>\n",
       "      <td>2018.871888</td>\n",
       "      <td>6.654996</td>\n",
       "      <td>12.497329</td>\n",
       "    </tr>\n",
       "    <tr>\n",
       "      <th>std</th>\n",
       "      <td>8.819312</td>\n",
       "      <td>1.574243</td>\n",
       "      <td>3.436554</td>\n",
       "      <td>9.887551</td>\n",
       "    </tr>\n",
       "    <tr>\n",
       "      <th>min</th>\n",
       "      <td>1925.000000</td>\n",
       "      <td>2008.000000</td>\n",
       "      <td>1.000000</td>\n",
       "      <td>1.000000</td>\n",
       "    </tr>\n",
       "    <tr>\n",
       "      <th>25%</th>\n",
       "      <td>2013.000000</td>\n",
       "      <td>2018.000000</td>\n",
       "      <td>4.000000</td>\n",
       "      <td>1.000000</td>\n",
       "    </tr>\n",
       "    <tr>\n",
       "      <th>50%</th>\n",
       "      <td>2017.000000</td>\n",
       "      <td>2019.000000</td>\n",
       "      <td>7.000000</td>\n",
       "      <td>13.000000</td>\n",
       "    </tr>\n",
       "    <tr>\n",
       "      <th>75%</th>\n",
       "      <td>2019.000000</td>\n",
       "      <td>2020.000000</td>\n",
       "      <td>10.000000</td>\n",
       "      <td>20.000000</td>\n",
       "    </tr>\n",
       "    <tr>\n",
       "      <th>max</th>\n",
       "      <td>2021.000000</td>\n",
       "      <td>2021.000000</td>\n",
       "      <td>12.000000</td>\n",
       "      <td>31.000000</td>\n",
       "    </tr>\n",
       "  </tbody>\n",
       "</table>\n",
       "</div>"
      ],
      "text/plain": [
       "       release_year   year_added  month_added    day_added\n",
       "count   8807.000000  8797.000000  8797.000000  8797.000000\n",
       "mean    2014.180198  2018.871888     6.654996    12.497329\n",
       "std        8.819312     1.574243     3.436554     9.887551\n",
       "min     1925.000000  2008.000000     1.000000     1.000000\n",
       "25%     2013.000000  2018.000000     4.000000     1.000000\n",
       "50%     2017.000000  2019.000000     7.000000    13.000000\n",
       "75%     2019.000000  2020.000000    10.000000    20.000000\n",
       "max     2021.000000  2021.000000    12.000000    31.000000"
      ]
     },
     "execution_count": 40,
     "metadata": {},
     "output_type": "execute_result"
    }
   ],
   "source": [
    "# Analyzing stats about each feature added such as count,min ,max and mean\n",
    "nf_date.describe()\n"
   ]
  },
  {
   "cell_type": "code",
   "execution_count": 41,
   "id": "e2a24bab",
   "metadata": {},
   "outputs": [],
   "source": [
    "# Netflix has 25% of movies and Tv shows that were released within the last two years \n",
    "# About 75% of netflix content consits of movies and Tv shows released after 2013\n",
    "# Data from netflix shows that new trend movies or Tv shows are more prevalent\n",
    "# for more subscribers, Netflix should invest in classic Movies and Tv shows"
   ]
  },
  {
   "cell_type": "code",
   "execution_count": 42,
   "id": "0e886087",
   "metadata": {},
   "outputs": [],
   "source": [
    "\n",
    "# Univariante Analysis\n",
    "\n"
   ]
  },
  {
   "cell_type": "code",
   "execution_count": 43,
   "id": "d4fb705d",
   "metadata": {},
   "outputs": [
    {
     "data": {
      "image/png": "[encoded data removed]",
      "text/plain": [
       "<Figure size 432x288 with 1 Axes>"
      ]
     },
     "metadata": {},
     "output_type": "display_data"
    }
   ],
   "source": [
    "# Movies & TV shows - Distributed\n",
    "data= nf_data.groupby(\"type\")['type'].count()\n",
    "\n",
    "explode=(0.10,0)\n",
    "labels = ['Movies','TV Show']\n",
    "colors = sns.color_palette(\"Blues\")\n",
    "plt.pie(data, labels=labels,colors = colors, autopct = '%0.2f', explode = explode)\n",
    "plt.show()\n"
   ]
  },
  {
   "cell_type": "code",
   "execution_count": 44,
   "id": "882ce879",
   "metadata": {},
   "outputs": [],
   "source": [
    "# Netflix has 69.92% of its content as movies\n",
    "# Movies are clearly more popular on netflix than TV shows"
   ]
  },
  {
   "cell_type": "code",
   "execution_count": 45,
   "id": "52f31fed",
   "metadata": {},
   "outputs": [
    {
     "data": {
      "text/plain": [
       "Text(0.5, 0, 'year -> (Movies added to NetFlix)')"
      ]
     },
     "execution_count": 45,
     "metadata": {},
     "output_type": "execute_result"
    },
    {
     "data": {
      "image/png": "[encoded data removed]",
      "text/plain": [
       "<Figure size 1080x360 with 1 Axes>"
      ]
     },
     "metadata": {},
     "output_type": "display_data"
    }
   ],
   "source": [
    "# Checking number of new contents added yearly\n",
    "\n",
    "fig=plt.figure(figsize=(15,5))\n",
    "sns.set(style='whitegrid')\n",
    "fig.set_facecolor(\"lightgrey\")\n",
    "count=(nf_date['year_added'].value_counts(normalize=True)*100)\n",
    "count.plot.bar(color=sns.color_palette('Reds'))\n",
    "plt.title('Count Plot (%) - Movies added to NetFlix by year',fontsize=14)\n",
    "plt.ylabel('Frequency -> (Movies added in %)', fontsize=12)\n",
    "plt.xlabel('year -> (Movies added to NetFlix)', fontsize=12)"
   ]
  },
  {
   "cell_type": "code",
   "execution_count": 46,
   "id": "0f778e70",
   "metadata": {},
   "outputs": [
    {
     "data": {
      "text/plain": [
       "Text(0.5, 0, 'year -> (Movies added to NetFlix)')"
      ]
     },
     "execution_count": 46,
     "metadata": {},
     "output_type": "execute_result"
    },
    {
     "data": {
      "image/png": "[encoded data removed]",
      "text/plain": [
       "<Figure size 1080x360 with 1 Axes>"
      ]
     },
     "metadata": {},
     "output_type": "display_data"
    }
   ],
   "source": [
    "fig=plt.figure(figsize=(15,5))\n",
    "sns.set(style='whitegrid')\n",
    "fig.set_facecolor(\"lightgrey\")\n",
    "sns.countplot(data=nf_date,x='year_added',palette = 'Reds')\n",
    "plt.title('Count Plot (%) - Movies added to NetFlix by year',fontsize=14)\n",
    "plt.ylabel('No. of Movies added to Netflix', fontsize=12)\n",
    "plt.xlabel('year -> (Movies added to NetFlix)', fontsize=12)"
   ]
  },
  {
   "cell_type": "code",
   "execution_count": 47,
   "id": "4c763c23",
   "metadata": {},
   "outputs": [],
   "source": [
    "# According to the above graph ,Netflix has started adding content since 2014\n",
    "# The popularity of OTT has boomed in the last 5 years, So we're seeing a dramatic increase in content being added\n",
    "# there were 2000(23%) Movies and Tv shows added in the year 2019(Highest Until date)\n"
   ]
  },
  {
   "cell_type": "code",
   "execution_count": 48,
   "id": "91257ea3",
   "metadata": {},
   "outputs": [
    {
     "data": {
      "text/plain": [
       "Text(0.5, 0, 'month -> (Movies added to NetFlix)')"
      ]
     },
     "execution_count": 48,
     "metadata": {},
     "output_type": "execute_result"
    },
    {
     "data": {
      "image/png": "[encoded data removed]",
      "text/plain": [
       "<Figure size 1080x360 with 1 Axes>"
      ]
     },
     "metadata": {},
     "output_type": "display_data"
    }
   ],
   "source": [
    "fig=plt.figure(figsize=(15,5))\n",
    "sns.set(style='whitegrid')\n",
    "fig.set_facecolor(\"lightgrey\")\n",
    "count=(nf_date['month_added'].value_counts(normalize=True)*100)\n",
    "count.plot.bar(color=sns.color_palette('Blues'))\n",
    "plt.title('Count Plot (%) - Movies added to NetFlix by month',fontsize=14)\n",
    "plt.ylabel('Frequency -> (Movies added in %)', fontsize=12)\n",
    "plt.xlabel('month -> (Movies added to NetFlix)', fontsize=12)"
   ]
  },
  {
   "cell_type": "code",
   "execution_count": 49,
   "id": "72609cc0",
   "metadata": {},
   "outputs": [
    {
     "data": {
      "text/plain": [
       "Text(0.5, 0, 'month -> (Movies added to Netflix)')"
      ]
     },
     "execution_count": 49,
     "metadata": {},
     "output_type": "execute_result"
    },
    {
     "data": {
      "image/png": "[encoded data removed]",
      "text/plain": [
       "<Figure size 1080x360 with 1 Axes>"
      ]
     },
     "metadata": {},
     "output_type": "display_data"
    }
   ],
   "source": [
    "# Each Month we see consistent addition\n",
    "# Checking number of content added monthly\n",
    "fig=plt.figure(figsize=(15,5))\n",
    "sns.set(style='whitegrid')\n",
    "fig.set_facecolor(\"lightgrey\")\n",
    "sns.countplot(data=nf_date,x='month_added',palette = 'Blues')\n",
    "plt.title('Count Plot (%) - Movies added to Netflix by month',fontsize=14)\n",
    "plt.ylabel('No. of Movies added to Netflix', fontsize=12)\n",
    "plt.xlabel('month -> (Movies added to Netflix)', fontsize=12)"
   ]
  },
  {
   "cell_type": "code",
   "execution_count": null,
   "id": "3fa1fde4",
   "metadata": {},
   "outputs": [],
   "source": []
  },
  {
   "cell_type": "code",
   "execution_count": 50,
   "id": "731f8cb6",
   "metadata": {},
   "outputs": [
    {
     "data": {
      "text/plain": [
       "Text(0.5, 0, 'Date on which Movies added to Netflix)')"
      ]
     },
     "execution_count": 50,
     "metadata": {},
     "output_type": "execute_result"
    },
    {
     "data": {
      "image/png": "[encoded data removed]",
      "text/plain": [
       "<Figure size 1080x360 with 1 Axes>"
      ]
     },
     "metadata": {},
     "output_type": "display_data"
    }
   ],
   "source": [
    "# Checking when should be new content added to the site\n",
    "\n",
    "fig=plt.figure(figsize=(15,5))\n",
    "sns.set(style='whitegrid')\n",
    "fig.set_facecolor(\"lightgrey\")\n",
    "count = (nf_date['day_added'].value_counts(normalize=True)*100)\n",
    "count.plot.bar(color=sns.color_palette('Reds'))\n",
    "plt.title('Frequency Plot (%) - Movies added to Netflix by date of month',fontsize=14)\n",
    "plt.ylabel('Frequency of Movies added to Netflix', fontsize=12)\n",
    "plt.xlabel('Date on which Movies added to Netflix)', fontsize=12)\n",
    "\n",
    "# It was evident that 1st of every month was the most content was added"
   ]
  },
  {
   "cell_type": "code",
   "execution_count": null,
   "id": "19d9fdba",
   "metadata": {},
   "outputs": [],
   "source": []
  },
  {
   "cell_type": "code",
   "execution_count": null,
   "id": "713ec1bc",
   "metadata": {},
   "outputs": [],
   "source": []
  },
  {
   "cell_type": "code",
   "execution_count": 51,
   "id": "de3c7298",
   "metadata": {},
   "outputs": [],
   "source": [
    "# Distribution of Release Year\n",
    "\n",
    "bins=[1941,2000,2011,2014,2016,2018,2020,2021]\n",
    "nf_date_v1 = nf_date.groupby(pd.cut(nf_date['release_year'],bins=bins)).release_year.count()\n",
    "bins=[1941,2000,2011,2013,2021]\n",
    "nf_date_v2 = nf_date.groupby(pd.cut(nf_date['release_year'],bins=bins)).release_year.count()\n"
   ]
  },
  {
   "cell_type": "code",
   "execution_count": 52,
   "id": "6ebe3342",
   "metadata": {},
   "outputs": [],
   "source": [
    "nf_date_bin=nf_date_v1.to_frame()\n",
    "nf_date_bin.rename(columns = {\"release_year\":\"count\"},inplace=True)\n",
    "nf_date_bin1=nf_date_v2.to_frame()\n",
    "nf_date_bin1.rename(columns = {\"release_year\":\"count\"},inplace=True)"
   ]
  },
  {
   "cell_type": "code",
   "execution_count": 53,
   "id": "167dfd24",
   "metadata": {},
   "outputs": [
    {
     "data": {
      "text/plain": [
       "<AxesSubplot:title={'center':'Bar Plot - based on release_year of Movies & TV shows'}, xlabel='release_year', ylabel='count'>"
      ]
     },
     "execution_count": 53,
     "metadata": {},
     "output_type": "execute_result"
    },
    {
     "data": {
      "image/png": "[encoded data removed]",
      "text/plain": [
       "<Figure size 1080x360 with 1 Axes>"
      ]
     },
     "metadata": {},
     "output_type": "display_data"
    }
   ],
   "source": [
    "fig=plt.figure(figsize=(15,5))\n",
    "sns.set(style='darkgrid')\n",
    "fig.set_facecolor(\"lightgrey\")\n",
    "plt.title('Bar Plot - based on release_year of Movies & TV shows',fontsize=12)\n",
    "plt.ylabel('Count of Movies & TV shows release by year', fontsize=12)\n",
    "plt.xlabel('Bin of release year', fontsize=12)\n",
    "plt.xticks(rotation = 80, fontsize=12)\n",
    "sns.barplot(x=nf_date_bin.index,y='count',data=nf_date_bin,palette='Blues')"
   ]
  },
  {
   "cell_type": "code",
   "execution_count": 54,
   "id": "64086847",
   "metadata": {},
   "outputs": [],
   "source": [
    "# This above graph shows 2016-1018 Most Movies and TV shows released"
   ]
  },
  {
   "cell_type": "code",
   "execution_count": 55,
   "id": "59827b76",
   "metadata": {},
   "outputs": [
    {
     "data": {
      "text/plain": [
       "<AxesSubplot:title={'center':'Bar Plot - based on release_year of Movies & TV shows'}, xlabel='release_year', ylabel='count'>"
      ]
     },
     "execution_count": 55,
     "metadata": {},
     "output_type": "execute_result"
    },
    {
     "data": {
      "image/png": "[encoded data removed]",
      "text/plain": [
       "<Figure size 864x360 with 1 Axes>"
      ]
     },
     "metadata": {},
     "output_type": "display_data"
    }
   ],
   "source": [
    "fig=plt.figure(figsize=(12,5))\n",
    "sns.set(style='darkgrid')\n",
    "fig.set_facecolor(\"lightgrey\")\n",
    "plt.title('Bar Plot - based on release_year of Movies & TV shows',fontsize=12)\n",
    "plt.ylabel('Count of Movies & TV shows release by year', fontsize=12)\n",
    "plt.xlabel('Bin of release year', fontsize=12)\n",
    "plt.xticks(rotation = 80, fontsize=12)\n",
    "sns.barplot(x=nf_date_bin1.index,y='count',data=nf_date_bin1,palette='Blues')\n",
    "\n",
    "# Netflix began adding content in 2014 as indicated by the \"added_year\" analysis mentioned above\n",
    "# Added content release date ranging from 2014 till now for 75% of movies and Tv shows.This shows netflix encourages content creaters to add new content in the flatform\n",
    "# New content creators have a lot of opportinutes to share their content of netflix"
   ]
  },
  {
   "cell_type": "code",
   "execution_count": null,
   "id": "c6744590",
   "metadata": {},
   "outputs": [],
   "source": []
  },
  {
   "cell_type": "code",
   "execution_count": 126,
   "id": "66777d5f",
   "metadata": {},
   "outputs": [
    {
     "data": {
      "text/html": [
       "<div>\n",
       "<style scoped>\n",
       "    .dataframe tbody tr th:only-of-type {\n",
       "        vertical-align: middle;\n",
       "    }\n",
       "\n",
       "    .dataframe tbody tr th {\n",
       "        vertical-align: top;\n",
       "    }\n",
       "\n",
       "    .dataframe thead th {\n",
       "        text-align: right;\n",
       "    }\n",
       "</style>\n",
       "<table border=\"1\" class=\"dataframe\">\n",
       "  <thead>\n",
       "    <tr style=\"text-align: right;\">\n",
       "      <th></th>\n",
       "      <th>release_year</th>\n",
       "      <th>year_added</th>\n",
       "      <th>month_added</th>\n",
       "      <th>day_added</th>\n",
       "    </tr>\n",
       "  </thead>\n",
       "  <tbody>\n",
       "    <tr>\n",
       "      <th>release_year</th>\n",
       "      <td>1.000000</td>\n",
       "      <td>0.111531</td>\n",
       "      <td>-0.039179</td>\n",
       "      <td>0.140126</td>\n",
       "    </tr>\n",
       "    <tr>\n",
       "      <th>year_added</th>\n",
       "      <td>0.111531</td>\n",
       "      <td>1.000000</td>\n",
       "      <td>-0.160421</td>\n",
       "      <td>0.045901</td>\n",
       "    </tr>\n",
       "    <tr>\n",
       "      <th>month_added</th>\n",
       "      <td>-0.039179</td>\n",
       "      <td>-0.160421</td>\n",
       "      <td>1.000000</td>\n",
       "      <td>0.020658</td>\n",
       "    </tr>\n",
       "    <tr>\n",
       "      <th>day_added</th>\n",
       "      <td>0.140126</td>\n",
       "      <td>0.045901</td>\n",
       "      <td>0.020658</td>\n",
       "      <td>1.000000</td>\n",
       "    </tr>\n",
       "  </tbody>\n",
       "</table>\n",
       "</div>"
      ],
      "text/plain": [
       "              release_year  year_added  month_added  day_added\n",
       "release_year      1.000000    0.111531    -0.039179   0.140126\n",
       "year_added        0.111531    1.000000    -0.160421   0.045901\n",
       "month_added      -0.039179   -0.160421     1.000000   0.020658\n",
       "day_added         0.140126    0.045901     0.020658   1.000000"
      ]
     },
     "execution_count": 126,
     "metadata": {},
     "output_type": "execute_result"
    }
   ],
   "source": [
    "# Heat Map for Correlation i.e Between year, month,day of release\n",
    "corr=nf_date.corr()\n",
    "corr\n"
   ]
  },
  {
   "cell_type": "code",
   "execution_count": 123,
   "id": "6b380410",
   "metadata": {},
   "outputs": [
    {
     "data": {
      "text/plain": [
       "<AxesSubplot:>"
      ]
     },
     "execution_count": 123,
     "metadata": {},
     "output_type": "execute_result"
    },
    {
     "data": {
      "image/png": "[encoded data removed]",
      "text/plain": [
       "<Figure size 432x288 with 2 Axes>"
      ]
     },
     "metadata": {},
     "output_type": "display_data"
    }
   ],
   "source": [
    "sns.heatmap(corr, annot=True, cmap='Dark2', linewidths=1)"
   ]
  },
  {
   "cell_type": "code",
   "execution_count": 161,
   "id": "221f0686",
   "metadata": {},
   "outputs": [
    {
     "data": {
      "image/png": "[encoded data removed]",
      "text/plain": [
       "<Figure size 391.55x360 with 2 Axes>"
      ]
     },
     "metadata": {},
     "output_type": "display_data"
    }
   ],
   "source": [
    "# Tv Shows and Movies release Year\n",
    "sns.pairplot(data=nf_data, hue='type', height=5)\n",
    "plt.show()\n"
   ]
  },
  {
   "cell_type": "code",
   "execution_count": 56,
   "id": "764436af",
   "metadata": {},
   "outputs": [],
   "source": [
    "# Identifing how content is distributed based on maturity level - Kids,teens, adults\n",
    "\n"
   ]
  },
  {
   "cell_type": "code",
   "execution_count": 57,
   "id": "b681ed8a",
   "metadata": {},
   "outputs": [
    {
     "data": {
      "text/plain": [
       "(array([0, 1, 2]),\n",
       " [Text(0, 0, 'Adults'), Text(1, 0, 'Teenagers'), Text(2, 0, 'Kids')])"
      ]
     },
     "execution_count": 57,
     "metadata": {},
     "output_type": "execute_result"
    },
    {
     "data": {
      "image/png": "[encoded data removed]",
      "text/plain": [
       "<Figure size 864x360 with 1 Axes>"
      ]
     },
     "metadata": {},
     "output_type": "display_data"
    }
   ],
   "source": [
    "fig=plt.figure(figsize=(12,5))\n",
    "sns.set(style='darkgrid')\n",
    "fig.set_facecolor(\"lightgrey\")\n",
    "count = (nf_data['ratings_cat'].value_counts(normalize=True)*100)\n",
    "count.plot.bar(color=sns.color_palette('Reds'))\n",
    "plt.title(' Bar Plot - Rating based on the Category(Kds,Teenagers,Adults)',fontsize=14)\n",
    "plt.ylabel('Frequency of Rating category added in %', fontsize=12)\n",
    "plt.xlabel('Category - Kids,Teenagers & Adults', fontsize=12)\n",
    "plt.xticks(rotation = 30,fontsize=12)"
   ]
  },
  {
   "cell_type": "code",
   "execution_count": 148,
   "id": "fe07810e",
   "metadata": {},
   "outputs": [
    {
     "data": {
      "text/plain": [
       "Text(0.5, 0, 'Category - Kids,Teenagers & Adults')"
      ]
     },
     "execution_count": 148,
     "metadata": {},
     "output_type": "execute_result"
    },
    {
     "data": {
      "image/png": "[encoded data removed]",
      "text/plain": [
       "<Figure size 864x360 with 1 Axes>"
      ]
     },
     "metadata": {},
     "output_type": "display_data"
    }
   ],
   "source": [
    "# Boxplot\n",
    "fig=plt.figure(figsize=(12,5))\n",
    "sns.set(style='darkgrid')\n",
    "fig.set_facecolor(\"lightgrey\")\n",
    "# count = (nf_data['ratings_cat'].value_counts(normalize=True)*100)\n",
    "sns.boxplot(data=nf_data, x=\"ratings_cat\", y=\"release_year\")\n",
    "plt.title(' Box Plot - Rating based on the Category(Kids,Teenagers,Adults)',fontsize=14)\n",
    "plt.ylabel('Year of content added', fontsize=12)\n",
    "plt.xlabel('Category - Kids,Teenagers & Adults', fontsize=12)\n",
    "# plt.xticks(rotation = 30,fontsize=12)"
   ]
  },
  {
   "cell_type": "code",
   "execution_count": null,
   "id": "e43dedbf",
   "metadata": {},
   "outputs": [],
   "source": []
  },
  {
   "cell_type": "code",
   "execution_count": null,
   "id": "e1e6a252",
   "metadata": {},
   "outputs": [],
   "source": []
  },
  {
   "cell_type": "code",
   "execution_count": null,
   "id": "77b3d20b",
   "metadata": {},
   "outputs": [],
   "source": []
  },
  {
   "cell_type": "code",
   "execution_count": 103,
   "id": "64dfdf91",
   "metadata": {},
   "outputs": [
    {
     "data": {
      "text/plain": [
       "Text(0.5, 0, 'Category')"
      ]
     },
     "execution_count": 103,
     "metadata": {},
     "output_type": "execute_result"
    },
    {
     "data": {
      "image/png": "[encoded data removed]",
      "text/plain": [
       "<Figure size 1080x360 with 1 Axes>"
      ]
     },
     "metadata": {},
     "output_type": "display_data"
    }
   ],
   "source": [
    "fig=plt.figure(figsize=(15,5))\n",
    "sns.set(style='darkgrid')\n",
    "fig.set_facecolor(\"lightgrey\")\n",
    "count = (nf_data['rating'].value_counts(normalize=True)*100)\n",
    "count.plot.bar(color=sns.color_palette('Blues'))\n",
    "plt.title(' Bar Plot - Rating based on the Category',fontsize=14)\n",
    "plt.ylabel('Frequency of age Rating category added in %', fontsize=14)\n",
    "plt.xlabel('Category', fontsize=12)\n"
   ]
  },
  {
   "cell_type": "code",
   "execution_count": null,
   "id": "23ed4a4a",
   "metadata": {},
   "outputs": [],
   "source": []
  },
  {
   "cell_type": "code",
   "execution_count": 59,
   "id": "47b9cdbd",
   "metadata": {},
   "outputs": [],
   "source": [
    "# On Netflix 48% of the content (Movies and Tv shows) is for aduts\n",
    "# According to the Above graph, more than 60% of Tv shows content is not suitable for kids\n",
    "#  More Kid friendly content can increase more Subscribers"
   ]
  },
  {
   "cell_type": "code",
   "execution_count": null,
   "id": "5861ee09",
   "metadata": {},
   "outputs": [],
   "source": []
  },
  {
   "cell_type": "code",
   "execution_count": 60,
   "id": "c036a598",
   "metadata": {},
   "outputs": [],
   "source": [
    "# GENRES\n"
   ]
  },
  {
   "cell_type": "code",
   "execution_count": 61,
   "id": "f0236c42",
   "metadata": {},
   "outputs": [
    {
     "data": {
      "text/html": [
       "<div>\n",
       "<style scoped>\n",
       "    .dataframe tbody tr th:only-of-type {\n",
       "        vertical-align: middle;\n",
       "    }\n",
       "\n",
       "    .dataframe tbody tr th {\n",
       "        vertical-align: top;\n",
       "    }\n",
       "\n",
       "    .dataframe thead th {\n",
       "        text-align: right;\n",
       "    }\n",
       "</style>\n",
       "<table border=\"1\" class=\"dataframe\">\n",
       "  <thead>\n",
       "    <tr style=\"text-align: right;\">\n",
       "      <th></th>\n",
       "      <th>Geners</th>\n",
       "      <th>Geners Count</th>\n",
       "    </tr>\n",
       "  </thead>\n",
       "  <tbody>\n",
       "    <tr>\n",
       "      <th>0</th>\n",
       "      <td>International Movies</td>\n",
       "      <td>2752</td>\n",
       "    </tr>\n",
       "    <tr>\n",
       "      <th>1</th>\n",
       "      <td>Dramas</td>\n",
       "      <td>2427</td>\n",
       "    </tr>\n",
       "    <tr>\n",
       "      <th>2</th>\n",
       "      <td>Comedies</td>\n",
       "      <td>1674</td>\n",
       "    </tr>\n",
       "    <tr>\n",
       "      <th>3</th>\n",
       "      <td>International TV Shows</td>\n",
       "      <td>1351</td>\n",
       "    </tr>\n",
       "    <tr>\n",
       "      <th>4</th>\n",
       "      <td>Documentaries</td>\n",
       "      <td>869</td>\n",
       "    </tr>\n",
       "  </tbody>\n",
       "</table>\n",
       "</div>"
      ],
      "text/plain": [
       "                   Geners  Geners Count\n",
       "0    International Movies          2752\n",
       "1                  Dramas          2427\n",
       "2                Comedies          1674\n",
       "3  International TV Shows          1351\n",
       "4           Documentaries           869"
      ]
     },
     "execution_count": 61,
     "metadata": {},
     "output_type": "execute_result"
    }
   ],
   "source": [
    "geners = \", \".join(nf_data['geners']).split(\", \")\n",
    "geners\n",
    "\n",
    "genre_cnt = Counter()\n",
    "for genre in geners:\n",
    "    genre_cnt[genre] +=1\n",
    "    \n",
    "top_20_genre = genre_cnt.most_common(20)\n",
    "nf_geners = pd.DataFrame (top_20_genre, columns = ['Geners','Geners Count'])\n",
    "nf_geners.head()"
   ]
  },
  {
   "cell_type": "code",
   "execution_count": 62,
   "id": "4f7e3780",
   "metadata": {},
   "outputs": [
    {
     "data": {
      "text/plain": [
       "<AxesSubplot:title={'center':'Top 20 Geners Count'}, xlabel='Geners', ylabel='Geners Count'>"
      ]
     },
     "execution_count": 62,
     "metadata": {},
     "output_type": "execute_result"
    },
    {
     "data": {
      "image/png": "[encoded data removed]",
      "text/plain": [
       "<Figure size 1080x360 with 1 Axes>"
      ]
     },
     "metadata": {},
     "output_type": "display_data"
    }
   ],
   "source": [
    "# Which Geners Movies Contribute more to Netflix\n",
    "fig=plt.figure(figsize=(15,5))\n",
    "sns.set(style='darkgrid')\n",
    "fig.set_facecolor(\"lightgrey\")\n",
    "plt.title('Top 20 Geners Count',fontsize=12)\n",
    "plt.ylabel('Count of Movies & TV shows by Geners', fontsize=12)\n",
    "plt.xlabel('Geners', fontsize=12)\n",
    "plt.xticks(rotation = 80, fontsize=12)\n",
    "sns.barplot(x='Geners',y='Geners Count',data=nf_geners,palette='Reds_r')"
   ]
  },
  {
   "cell_type": "code",
   "execution_count": 63,
   "id": "f0906256",
   "metadata": {},
   "outputs": [],
   "source": [
    "# As can be seen from the above graph, \" International Movies & Dramas\" are the top Gener contributors\n",
    "# Their contribution Most in Revenue of Netflix"
   ]
  },
  {
   "cell_type": "code",
   "execution_count": null,
   "id": "fcc1b82a",
   "metadata": {},
   "outputs": [],
   "source": [
    "\n",
    "\n"
   ]
  },
  {
   "cell_type": "code",
   "execution_count": 64,
   "id": "97f22989",
   "metadata": {},
   "outputs": [],
   "source": [
    "# Top 20 Contribution to the Netflix content\n",
    "\n",
    "# Top 20 actors who have contributed to the most Movies to Netflix content\n",
    "# Top 20 actors who have contributed to the most TV shows to Netflix content"
   ]
  },
  {
   "cell_type": "code",
   "execution_count": 65,
   "id": "b3cd15d6",
   "metadata": {
    "scrolled": true
   },
   "outputs": [
    {
     "name": "stderr",
     "output_type": "stream",
     "text": [
      "C:\\Users\\archa\\AppData\\Local\\Temp/ipykernel_7116/3815432648.py:4: UserWarning: Pandas doesn't allow columns to be created via a new attribute name - see https://pandas.pydata.org/pandas-docs/stable/indexing.html#attribute-access\n",
      "  nf_cast.coloumns = ['Movies','TV Show']\n"
     ]
    },
    {
     "data": {
      "text/html": [
       "<div>\n",
       "<style scoped>\n",
       "    .dataframe tbody tr th:only-of-type {\n",
       "        vertical-align: middle;\n",
       "    }\n",
       "\n",
       "    .dataframe tbody tr th {\n",
       "        vertical-align: top;\n",
       "    }\n",
       "\n",
       "    .dataframe thead th {\n",
       "        text-align: right;\n",
       "    }\n",
       "</style>\n",
       "<table border=\"1\" class=\"dataframe\">\n",
       "  <thead>\n",
       "    <tr style=\"text-align: right;\">\n",
       "      <th>type</th>\n",
       "      <th>cast</th>\n",
       "      <th>Movie</th>\n",
       "    </tr>\n",
       "  </thead>\n",
       "  <tbody>\n",
       "    <tr>\n",
       "      <th>0</th>\n",
       "      <td>4Minute, B1A4, BtoB, ELSIE, EXID, EXO, Got7, I...</td>\n",
       "      <td>1.0</td>\n",
       "    </tr>\n",
       "    <tr>\n",
       "      <th>1</th>\n",
       "      <td>50 Cent, Ryan Phillippe, Bruce Willis, Rory Ma...</td>\n",
       "      <td>1.0</td>\n",
       "    </tr>\n",
       "    <tr>\n",
       "      <th>2</th>\n",
       "      <td>A.J. LoCascio, Sendhil Ramamurthy, Fred Tatasc...</td>\n",
       "      <td>1.0</td>\n",
       "    </tr>\n",
       "    <tr>\n",
       "      <th>3</th>\n",
       "      <td>A.R. Rahman</td>\n",
       "      <td>1.0</td>\n",
       "    </tr>\n",
       "    <tr>\n",
       "      <th>4</th>\n",
       "      <td>Aadhi, Tapsee Pannu, Ritika Singh, Vennela Kis...</td>\n",
       "      <td>1.0</td>\n",
       "    </tr>\n",
       "  </tbody>\n",
       "</table>\n",
       "</div>"
      ],
      "text/plain": [
       "type                                               cast  Movie\n",
       "0     4Minute, B1A4, BtoB, ELSIE, EXID, EXO, Got7, I...    1.0\n",
       "1     50 Cent, Ryan Phillippe, Bruce Willis, Rory Ma...    1.0\n",
       "2     A.J. LoCascio, Sendhil Ramamurthy, Fred Tatasc...    1.0\n",
       "3                                           A.R. Rahman    1.0\n",
       "4     Aadhi, Tapsee Pannu, Ritika Singh, Vennela Kis...    1.0"
      ]
     },
     "execution_count": 65,
     "metadata": {},
     "output_type": "execute_result"
    }
   ],
   "source": [
    "# Top 20 actors who have contributed to the most Movies to Netflix content\n",
    "\n",
    "nf_cast = nf_data.groupby([\"type\",\"cast\"])[\"cast\"].count().unstack('type')\n",
    "nf_cast.coloumns = ['Movies','TV Show']\n",
    "nf_Movie_cast = nf_cast[nf_cast[\"Movie\"].notnull()].iloc[:,:1]\n",
    "nf_Movie_cast.reset_index(level='cast',inplace=True)\n",
    "nf_Movie_cast.head()"
   ]
  },
  {
   "cell_type": "code",
   "execution_count": null,
   "id": "71fc1f6a",
   "metadata": {},
   "outputs": [],
   "source": []
  },
  {
   "cell_type": "code",
   "execution_count": 66,
   "id": "586b91e5",
   "metadata": {},
   "outputs": [
    {
     "data": {
      "text/html": [
       "<div>\n",
       "<style scoped>\n",
       "    .dataframe tbody tr th:only-of-type {\n",
       "        vertical-align: middle;\n",
       "    }\n",
       "\n",
       "    .dataframe tbody tr th {\n",
       "        vertical-align: top;\n",
       "    }\n",
       "\n",
       "    .dataframe thead th {\n",
       "        text-align: right;\n",
       "    }\n",
       "</style>\n",
       "<table border=\"1\" class=\"dataframe\">\n",
       "  <thead>\n",
       "    <tr style=\"text-align: right;\">\n",
       "      <th></th>\n",
       "      <th>Actor</th>\n",
       "      <th>Actor Count</th>\n",
       "    </tr>\n",
       "  </thead>\n",
       "  <tbody>\n",
       "    <tr>\n",
       "      <th>0</th>\n",
       "      <td>Anupam Kher</td>\n",
       "      <td>42</td>\n",
       "    </tr>\n",
       "    <tr>\n",
       "      <th>1</th>\n",
       "      <td>Shah Rukh Khan</td>\n",
       "      <td>35</td>\n",
       "    </tr>\n",
       "    <tr>\n",
       "      <th>2</th>\n",
       "      <td>Naseeruddin Shah</td>\n",
       "      <td>32</td>\n",
       "    </tr>\n",
       "    <tr>\n",
       "      <th>3</th>\n",
       "      <td>Om Puri</td>\n",
       "      <td>30</td>\n",
       "    </tr>\n",
       "    <tr>\n",
       "      <th>4</th>\n",
       "      <td>Akshay Kumar</td>\n",
       "      <td>30</td>\n",
       "    </tr>\n",
       "  </tbody>\n",
       "</table>\n",
       "</div>"
      ],
      "text/plain": [
       "              Actor  Actor Count\n",
       "0       Anupam Kher           42\n",
       "1    Shah Rukh Khan           35\n",
       "2  Naseeruddin Shah           32\n",
       "3           Om Puri           30\n",
       "4      Akshay Kumar           30"
      ]
     },
     "execution_count": 66,
     "metadata": {},
     "output_type": "execute_result"
    }
   ],
   "source": [
    "movieCast = \", \".join(nf_Movie_cast['cast']).split(\", \")\n",
    "movieCast\n",
    "cnt_movieCast=Counter()\n",
    "\n",
    "for cast in movieCast:\n",
    "    cnt_movieCast[cast] += 1\n",
    "    \n",
    "movieCast = cnt_movieCast.most_common(20)\n",
    "nf_Movie_cast = pd.DataFrame (movieCast, columns = ['Actor','Actor Count'])\n",
    "nf_Movie_cast.head()"
   ]
  },
  {
   "cell_type": "code",
   "execution_count": 67,
   "id": "f2452a02",
   "metadata": {},
   "outputs": [
    {
     "data": {
      "text/plain": [
       "<AxesSubplot:title={'center':'Top Actor count for Movies'}, xlabel='Actor', ylabel='Actor Count'>"
      ]
     },
     "execution_count": 67,
     "metadata": {},
     "output_type": "execute_result"
    },
    {
     "data": {
      "image/png": "[encoded data removed]",
      "text/plain": [
       "<Figure size 1080x360 with 1 Axes>"
      ]
     },
     "metadata": {},
     "output_type": "display_data"
    }
   ],
   "source": [
    "fig=plt.figure(figsize=(15,5))\n",
    "sns.set(style='darkgrid')\n",
    "fig.set_facecolor(\"lightgrey\")\n",
    "plt.title('Top Actor count for Movies',fontsize=14)\n",
    "plt.ylabel('Count of Movies bt Actor', fontsize=12)\n",
    "plt.xlabel('Actor Names', fontsize=12)\n",
    "plt.xticks(rotation = 80, fontsize=12)\n",
    "sns.barplot(x='Actor',y='Actor Count',data = nf_Movie_cast,palette='Reds_r')"
   ]
  },
  {
   "cell_type": "code",
   "execution_count": 68,
   "id": "7b55fe9d",
   "metadata": {},
   "outputs": [],
   "source": [
    "# Based on the above data, the majority of Netflix movies are starring Indian Actors (No1:Anupam Kher)"
   ]
  },
  {
   "cell_type": "code",
   "execution_count": null,
   "id": "c2a15af9",
   "metadata": {},
   "outputs": [],
   "source": []
  },
  {
   "cell_type": "code",
   "execution_count": 69,
   "id": "fa513f3c",
   "metadata": {},
   "outputs": [
    {
     "data": {
      "text/html": [
       "<div>\n",
       "<style scoped>\n",
       "    .dataframe tbody tr th:only-of-type {\n",
       "        vertical-align: middle;\n",
       "    }\n",
       "\n",
       "    .dataframe tbody tr th {\n",
       "        vertical-align: top;\n",
       "    }\n",
       "\n",
       "    .dataframe thead th {\n",
       "        text-align: right;\n",
       "    }\n",
       "</style>\n",
       "<table border=\"1\" class=\"dataframe\">\n",
       "  <thead>\n",
       "    <tr style=\"text-align: right;\">\n",
       "      <th></th>\n",
       "      <th>Actor</th>\n",
       "      <th>Actor Count</th>\n",
       "    </tr>\n",
       "  </thead>\n",
       "  <tbody>\n",
       "    <tr>\n",
       "      <th>0</th>\n",
       "      <td>Takahiro Sakurai</td>\n",
       "      <td>25</td>\n",
       "    </tr>\n",
       "    <tr>\n",
       "      <th>1</th>\n",
       "      <td>Yuki Kaji</td>\n",
       "      <td>19</td>\n",
       "    </tr>\n",
       "    <tr>\n",
       "      <th>2</th>\n",
       "      <td>Junichi Suwabe</td>\n",
       "      <td>17</td>\n",
       "    </tr>\n",
       "    <tr>\n",
       "      <th>3</th>\n",
       "      <td>Daisuke Ono</td>\n",
       "      <td>17</td>\n",
       "    </tr>\n",
       "    <tr>\n",
       "      <th>4</th>\n",
       "      <td>Ai Kayano</td>\n",
       "      <td>17</td>\n",
       "    </tr>\n",
       "  </tbody>\n",
       "</table>\n",
       "</div>"
      ],
      "text/plain": [
       "              Actor  Actor Count\n",
       "0  Takahiro Sakurai           25\n",
       "1         Yuki Kaji           19\n",
       "2    Junichi Suwabe           17\n",
       "3       Daisuke Ono           17\n",
       "4         Ai Kayano           17"
      ]
     },
     "execution_count": 69,
     "metadata": {},
     "output_type": "execute_result"
    }
   ],
   "source": [
    "# Top 20 actors who have contributed to the most TV shows to Netflix content\n",
    "\n",
    "nf_tv_show_cast = nf_cast[nf_cast[\"TV Show\"].notnull()].iloc[:,1:2]\n",
    "nf_tv_show_cast.reset_index(level='cast',inplace=True)\n",
    "tv_show_cast = \", \".join(nf_tv_show_cast['cast']).split(\", \")\n",
    "tv_show_cast\n",
    "cnt_tv_show_cast=Counter()\n",
    "\n",
    "for cast in tv_show_cast:\n",
    "    cnt_tv_show_cast[cast] += 1\n",
    "    \n",
    "tv_show_cast = cnt_tv_show_cast.most_common(20)\n",
    "nf_tv_show_cast = pd.DataFrame (tv_show_cast, columns = ['Actor','Actor Count'])\n",
    "nf_tv_show_cast.head()"
   ]
  },
  {
   "cell_type": "code",
   "execution_count": 70,
   "id": "47966185",
   "metadata": {},
   "outputs": [
    {
     "data": {
      "text/plain": [
       "<AxesSubplot:title={'center':'Top Actor count for TV Shows'}, xlabel='Actor', ylabel='Actor Count'>"
      ]
     },
     "execution_count": 70,
     "metadata": {},
     "output_type": "execute_result"
    },
    {
     "data": {
      "image/png": "[encoded data removed]",
      "text/plain": [
       "<Figure size 1080x360 with 1 Axes>"
      ]
     },
     "metadata": {},
     "output_type": "display_data"
    }
   ],
   "source": [
    "fig=plt.figure(figsize=(15,5))\n",
    "sns.set(style='darkgrid')\n",
    "fig.set_facecolor(\"lightgrey\")\n",
    "plt.title('Top Actor count for TV Shows',fontsize=14)\n",
    "plt.ylabel('Count of TV Shows by Actor', fontsize=12)\n",
    "plt.xlabel('Actor Names', fontsize=12)\n",
    "plt.xticks(rotation = 80, fontsize=12)\n",
    "sns.barplot(x='Actor',y='Actor Count',data = nf_tv_show_cast,palette='Reds_r')"
   ]
  },
  {
   "cell_type": "code",
   "execution_count": 71,
   "id": "18271a39",
   "metadata": {},
   "outputs": [],
   "source": [
    "# Above graph says In Tv shows,there was a mix of stars from around the world\n"
   ]
  },
  {
   "cell_type": "code",
   "execution_count": null,
   "id": "31f72db8",
   "metadata": {},
   "outputs": [],
   "source": []
  },
  {
   "cell_type": "code",
   "execution_count": 72,
   "id": "8e62d599",
   "metadata": {},
   "outputs": [],
   "source": [
    "# Distribution of Movie Duration\n"
   ]
  },
  {
   "cell_type": "code",
   "execution_count": 73,
   "id": "366eea43",
   "metadata": {},
   "outputs": [
    {
     "name": "stderr",
     "output_type": "stream",
     "text": [
      "C:\\Users\\archa\\AppData\\Local\\Temp/ipykernel_7116/2002613381.py:2: SettingWithCopyWarning: \n",
      "A value is trying to be set on a copy of a slice from a DataFrame.\n",
      "Try using .loc[row_indexer,col_indexer] = value instead\n",
      "\n",
      "See the caveats in the documentation: https://pandas.pydata.org/pandas-docs/stable/user_guide/indexing.html#returning-a-view-versus-a-copy\n",
      "  nf_data_mv['duration'] = nf_data_mv['duration'].fillna(0.0).astype(float)\n"
     ]
    }
   ],
   "source": [
    "nf_data_mv=nf_data[nf_data[\"type\"] == \"Movie\"]\n",
    "nf_data_mv['duration'] = nf_data_mv['duration'].fillna(0.0).astype(float)"
   ]
  },
  {
   "cell_type": "code",
   "execution_count": 74,
   "id": "7f100bf9",
   "metadata": {},
   "outputs": [
    {
     "data": {
      "text/plain": [
       "<seaborn.axisgrid.FacetGrid at 0x2954d4bb880>"
      ]
     },
     "execution_count": 74,
     "metadata": {},
     "output_type": "execute_result"
    },
    {
     "data": {
      "image/png": "[encoded data removed]",
      "text/plain": [
       "<Figure size 360x360 with 1 Axes>"
      ]
     },
     "metadata": {},
     "output_type": "display_data"
    }
   ],
   "source": [
    "sns.displot(data=nf_data_mv,x='duration',bins=100,color=\"r\")"
   ]
  },
  {
   "cell_type": "code",
   "execution_count": null,
   "id": "afb24e6a",
   "metadata": {},
   "outputs": [],
   "source": []
  },
  {
   "cell_type": "code",
   "execution_count": 75,
   "id": "fb792f00",
   "metadata": {},
   "outputs": [
    {
     "data": {
      "text/html": [
       "<div>\n",
       "<style scoped>\n",
       "    .dataframe tbody tr th:only-of-type {\n",
       "        vertical-align: middle;\n",
       "    }\n",
       "\n",
       "    .dataframe tbody tr th {\n",
       "        vertical-align: top;\n",
       "    }\n",
       "\n",
       "    .dataframe thead th {\n",
       "        text-align: right;\n",
       "    }\n",
       "</style>\n",
       "<table border=\"1\" class=\"dataframe\">\n",
       "  <thead>\n",
       "    <tr style=\"text-align: right;\">\n",
       "      <th></th>\n",
       "      <th>season</th>\n",
       "      <th>count</th>\n",
       "    </tr>\n",
       "  </thead>\n",
       "  <tbody>\n",
       "    <tr>\n",
       "      <th>0</th>\n",
       "      <td>0</td>\n",
       "      <td>6131</td>\n",
       "    </tr>\n",
       "    <tr>\n",
       "      <th>1</th>\n",
       "      <td>1</td>\n",
       "      <td>1793</td>\n",
       "    </tr>\n",
       "    <tr>\n",
       "      <th>2</th>\n",
       "      <td>2</td>\n",
       "      <td>425</td>\n",
       "    </tr>\n",
       "    <tr>\n",
       "      <th>3</th>\n",
       "      <td>3</td>\n",
       "      <td>199</td>\n",
       "    </tr>\n",
       "    <tr>\n",
       "      <th>4</th>\n",
       "      <td>4</td>\n",
       "      <td>95</td>\n",
       "    </tr>\n",
       "  </tbody>\n",
       "</table>\n",
       "</div>"
      ],
      "text/plain": [
       "  season  count\n",
       "0      0   6131\n",
       "1      1   1793\n",
       "2      2    425\n",
       "3      3    199\n",
       "4      4     95"
      ]
     },
     "execution_count": 75,
     "metadata": {},
     "output_type": "execute_result"
    }
   ],
   "source": [
    "# No. of Seasons per TV shows\n",
    "\n",
    "nf_season_cnt = nf_data['season_count'].value_counts().reset_index()\n",
    "nf_season_cnt = nf_season_cnt.rename(columns = {'season_count' : \"count\", \"index\" : 'season'})\n",
    "nf_season_cnt.loc[0,'season'] = 0\n",
    "nf_season_cnt.head()"
   ]
  },
  {
   "cell_type": "code",
   "execution_count": null,
   "id": "3a9d8156",
   "metadata": {},
   "outputs": [],
   "source": []
  },
  {
   "cell_type": "code",
   "execution_count": 76,
   "id": "97502038",
   "metadata": {},
   "outputs": [
    {
     "data": {
      "text/plain": [
       "Text(0.5, 0, 'No. of Seasons')"
      ]
     },
     "execution_count": 76,
     "metadata": {},
     "output_type": "execute_result"
    },
    {
     "data": {
      "image/png": "[encoded data removed]",
      "text/plain": [
       "<Figure size 1080x360 with 1 Axes>"
      ]
     },
     "metadata": {},
     "output_type": "display_data"
    }
   ],
   "source": [
    "# Graph of No. of Seasons per TV shows\n",
    "fig=plt.figure(figsize=(15,5))\n",
    "sns.set(style='darkgrid')\n",
    "fig.set_facecolor(\"lightgrey\")\n",
    "plt.title('Season count for TV shows',fontsize=14)\n",
    "plt.xticks(rotation = 0, fontsize=12)\n",
    "sns.barplot(x='season',y='count',data = nf_season_cnt,palette='Reds_r')\n",
    "plt.ylabel('Count of no. of season per Tv show', fontsize=12)\n",
    "plt.xlabel('No. of Seasons', fontsize=12)\n",
    "\n"
   ]
  },
  {
   "cell_type": "code",
   "execution_count": 77,
   "id": "5a40263d",
   "metadata": {},
   "outputs": [],
   "source": [
    "# Maximun No of Tv shows are 0 season"
   ]
  },
  {
   "cell_type": "code",
   "execution_count": null,
   "id": "555ce2cc",
   "metadata": {},
   "outputs": [],
   "source": []
  },
  {
   "cell_type": "code",
   "execution_count": 78,
   "id": "9a221a61",
   "metadata": {},
   "outputs": [
    {
     "data": {
      "text/plain": [
       "Text(0.5, 1.0, 'Movies and TV Shows added added to Netflix by date ')"
      ]
     },
     "execution_count": 78,
     "metadata": {},
     "output_type": "execute_result"
    },
    {
     "data": {
      "image/png": "[encoded data removed]",
      "text/plain": [
       "<Figure size 1080x360 with 1 Axes>"
      ]
     },
     "metadata": {},
     "output_type": "display_data"
    }
   ],
   "source": [
    "# Bi- Varient Analysis\n",
    "# As we have seen earlier that it was evident that 1st of every moth was when the most content was added.Now it make sense to understand how is the distribution based on type\n",
    "\n",
    "fig = plt.figure(figsize=(15,5))\n",
    "sns.set(style='whitegrid')\n",
    "fig.set_facecolor(\"lightgrey\")\n",
    "sns.countplot(data=nf_date,x = 'day_added',hue = 'type',palette =\"Reds_r\",\n",
    "              order = nf_date['day_added'].value_counts().index[0:15])\n",
    "plt.title('Movies and TV Shows added added to Netflix by date ', fontsize=14)\n"
   ]
  },
  {
   "cell_type": "code",
   "execution_count": 79,
   "id": "f862cdd1",
   "metadata": {},
   "outputs": [],
   "source": [
    "# Among these 71% are Movies,while 21% are Tv shows.It highly recomended that Movies be added beging of every month.\n",
    "# Netflix will know when the majority of the content is being added.If Neflix team needs to increase the servers they can work ahead of time.\n",
    "\n"
   ]
  },
  {
   "cell_type": "code",
   "execution_count": null,
   "id": "7c879ebd",
   "metadata": {},
   "outputs": [],
   "source": []
  },
  {
   "cell_type": "code",
   "execution_count": 80,
   "id": "273b304e",
   "metadata": {},
   "outputs": [
    {
     "data": {
      "text/plain": [
       "<seaborn.axisgrid.FacetGrid at 0x2954e968700>"
      ]
     },
     "execution_count": 80,
     "metadata": {},
     "output_type": "execute_result"
    },
    {
     "data": {
      "image/png": "[encoded data removed]",
      "text/plain": [
       "<Figure size 444.35x360 with 1 Axes>"
      ]
     },
     "metadata": {},
     "output_type": "display_data"
    }
   ],
   "source": [
    "sns.catplot(data=nf_data, kind='count', x='ratings_cat', hue='type', palette=\"Reds_r\")"
   ]
  },
  {
   "cell_type": "code",
   "execution_count": 81,
   "id": "2e645a93",
   "metadata": {},
   "outputs": [],
   "source": [
    "# The above graph shows which category content is uploading most\n"
   ]
  },
  {
   "cell_type": "code",
   "execution_count": 82,
   "id": "8a4b2077",
   "metadata": {},
   "outputs": [
    {
     "data": {
      "text/plain": [
       "Text(0.5, 1.0, 'Content available at Netflix based on the Maurity level ')"
      ]
     },
     "execution_count": 82,
     "metadata": {},
     "output_type": "execute_result"
    },
    {
     "data": {
      "image/png": "[encoded data removed]",
      "text/plain": [
       "<Figure size 1080x360 with 1 Axes>"
      ]
     },
     "metadata": {},
     "output_type": "display_data"
    }
   ],
   "source": [
    "# Content available at Netflix based on the Maurity level\n",
    "\n",
    "fig = plt.figure(figsize=(15,5))\n",
    "sns.set(style='whitegrid')\n",
    "fig.set_facecolor(\"lightgrey\")\n",
    "sns.countplot(data=nf_data,x = 'rating',hue = 'type',palette =\"Reds_r\",\n",
    "              order = nf_data['rating'].value_counts().index[0:15])\n",
    "plt.title('Content available at Netflix based on the Maurity level ', fontsize=14)"
   ]
  },
  {
   "cell_type": "code",
   "execution_count": null,
   "id": "8792652a",
   "metadata": {},
   "outputs": [],
   "source": []
  }
 ],
 "metadata": {
  "kernelspec": {
   "display_name": "Python 3 (ipykernel)",
   "language": "python",
   "name": "python3"
  },
  "language_info": {
   "codemirror_mode": {
    "name": "ipython",
    "version": 3
   },
   "file_extension": ".py",
   "mimetype": "text/x-python",
   "name": "python",
   "nbconvert_exporter": "python",
   "pygments_lexer": "ipython3",
   "version": "3.9.7"
  }
 },
 "nbformat": 4,
 "nbformat_minor": 5
}
